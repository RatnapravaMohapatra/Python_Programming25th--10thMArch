{
 "cells": [
  {
   "cell_type": "markdown",
   "id": "50e10bfa-8780-4bc6-8344-2893e886f204",
   "metadata": {},
   "source": [
    "# Logical operator\n",
    "#### AND,OR,NOT"
   ]
  },
  {
   "cell_type": "code",
   "execution_count": 4,
   "id": "4400a3ab-6ec1-4ff8-beae-e2be3af137bb",
   "metadata": {},
   "outputs": [],
   "source": [
    "a = 5\n",
    "b = 4"
   ]
  },
  {
   "cell_type": "code",
   "execution_count": 6,
   "id": "af4daa68-d74d-4d31-8035-177846ab65a3",
   "metadata": {},
   "outputs": [
    {
     "data": {
      "text/plain": [
       "False"
      ]
     },
     "execution_count": 6,
     "metadata": {},
     "output_type": "execute_result"
    }
   ],
   "source": [
    "a<5 and b<5"
   ]
  },
  {
   "cell_type": "code",
   "execution_count": 8,
   "id": "4953780d-6e49-4e92-8f2e-90fe4dd3820d",
   "metadata": {},
   "outputs": [
    {
     "data": {
      "text/plain": [
       "False"
      ]
     },
     "execution_count": 8,
     "metadata": {},
     "output_type": "execute_result"
    }
   ],
   "source": [
    "a<5 & b>4"
   ]
  },
  {
   "cell_type": "code",
   "execution_count": 10,
   "id": "3a6554e6-cfa7-4c2b-96b6-5c45be3c53fa",
   "metadata": {},
   "outputs": [
    {
     "data": {
      "text/plain": [
       "False"
      ]
     },
     "execution_count": 10,
     "metadata": {},
     "output_type": "execute_result"
    }
   ],
   "source": [
    "x = False\n",
    "x"
   ]
  },
  {
   "cell_type": "code",
   "execution_count": 12,
   "id": "70211cef-31c1-47ee-bc90-8a3200fbaa1f",
   "metadata": {},
   "outputs": [
    {
     "data": {
      "text/plain": [
       "True"
      ]
     },
     "execution_count": 12,
     "metadata": {},
     "output_type": "execute_result"
    }
   ],
   "source": [
    "not x"
   ]
  },
  {
   "cell_type": "code",
   "execution_count": 14,
   "id": "cf317621-973c-487e-9e7e-cb46ee73fecc",
   "metadata": {},
   "outputs": [
    {
     "data": {
      "text/plain": [
       "True"
      ]
     },
     "execution_count": 14,
     "metadata": {},
     "output_type": "execute_result"
    }
   ],
   "source": [
    "x = not x\n",
    "x"
   ]
  },
  {
   "cell_type": "code",
   "execution_count": null,
   "id": "03ec43e4-ab8a-4c90-9324-ec32de2128ab",
   "metadata": {},
   "outputs": [],
   "source": []
  },
  {
   "cell_type": "markdown",
   "id": "94e28d10-c682-4d7b-8f30-013c3406a198",
   "metadata": {},
   "source": [
    "# NUmber system conversion"
   ]
  },
  {
   "cell_type": "markdown",
   "id": "e8af1a2c-0726-425a-b5f2-f09f5bade83f",
   "metadata": {},
   "source": [
    "### binary:base(0,1),and divide by  number/2 & count in reverse order,octal base:(0,7),\n",
    "###  hexadecimal:base(0,9 and a =10,b=11,c=13..till f ,(A,F/a,f)),\n",
    "## in real time we use in ip config..when we want to knoe about ip address"
   ]
  },
  {
   "cell_type": "code",
   "execution_count": 19,
   "id": "fe8a48fc-de35-4594-a6d0-0d7833f26520",
   "metadata": {},
   "outputs": [
    {
     "data": {
      "text/plain": [
       "25"
      ]
     },
     "execution_count": 19,
     "metadata": {},
     "output_type": "execute_result"
    }
   ],
   "source": [
    "25"
   ]
  },
  {
   "cell_type": "code",
   "execution_count": 21,
   "id": "97842795-995a-4baf-86e6-ed93d075ee16",
   "metadata": {},
   "outputs": [
    {
     "data": {
      "text/plain": [
       "'0b11001'"
      ]
     },
     "execution_count": 21,
     "metadata": {},
     "output_type": "execute_result"
    }
   ],
   "source": [
    "bin(25)"
   ]
  },
  {
   "cell_type": "code",
   "execution_count": 27,
   "id": "9e348548-9801-426c-876e-8240918a0891",
   "metadata": {},
   "outputs": [
    {
     "data": {
      "text/plain": [
       "25"
      ]
     },
     "execution_count": 27,
     "metadata": {},
     "output_type": "execute_result"
    }
   ],
   "source": [
    "0b11001"
   ]
  },
  {
   "cell_type": "code",
   "execution_count": 29,
   "id": "110508df-ca2f-48fa-b6cf-fa9fbe49d9f6",
   "metadata": {},
   "outputs": [
    {
     "data": {
      "text/plain": [
       "'0b101101'"
      ]
     },
     "execution_count": 29,
     "metadata": {},
     "output_type": "execute_result"
    }
   ],
   "source": [
    "bin(45)"
   ]
  },
  {
   "cell_type": "code",
   "execution_count": 33,
   "id": "a1d7bf16-5674-4315-8f96-20221ebbdb00",
   "metadata": {},
   "outputs": [
    {
     "data": {
      "text/plain": [
       "45"
      ]
     },
     "execution_count": 33,
     "metadata": {},
     "output_type": "execute_result"
    }
   ],
   "source": [
    "0b101101"
   ]
  },
  {
   "cell_type": "code",
   "execution_count": 35,
   "id": "1a9269c2-039a-4485-87b5-caabf6ac6dbb",
   "metadata": {},
   "outputs": [
    {
     "data": {
      "text/plain": [
       "51"
      ]
     },
     "execution_count": 35,
     "metadata": {},
     "output_type": "execute_result"
    }
   ],
   "source": [
    "int(0b110011)"
   ]
  },
  {
   "cell_type": "code",
   "execution_count": 37,
   "id": "bac554c4-1e8f-4399-b117-8aeb72e44d79",
   "metadata": {},
   "outputs": [
    {
     "data": {
      "text/plain": [
       "'0o15'"
      ]
     },
     "execution_count": 37,
     "metadata": {},
     "output_type": "execute_result"
    }
   ],
   "source": [
    "oct(13)"
   ]
  },
  {
   "cell_type": "code",
   "execution_count": 39,
   "id": "01165eee-7eca-464e-9d0c-7a26d219b6be",
   "metadata": {},
   "outputs": [
    {
     "data": {
      "text/plain": [
       "'0o103'"
      ]
     },
     "execution_count": 39,
     "metadata": {},
     "output_type": "execute_result"
    }
   ],
   "source": [
    "oct(67)"
   ]
  },
  {
   "cell_type": "code",
   "execution_count": 43,
   "id": "fb3d838f-b9c7-42ba-95ad-357c38c792d5",
   "metadata": {},
   "outputs": [
    {
     "data": {
      "text/plain": [
       "67"
      ]
     },
     "execution_count": 43,
     "metadata": {},
     "output_type": "execute_result"
    }
   ],
   "source": [
    "int(0o103)"
   ]
  },
  {
   "cell_type": "code",
   "execution_count": 45,
   "id": "6a435e4d-607e-4202-89d3-6626fd18ff03",
   "metadata": {},
   "outputs": [
    {
     "data": {
      "text/plain": [
       "'0x6'"
      ]
     },
     "execution_count": 45,
     "metadata": {},
     "output_type": "execute_result"
    }
   ],
   "source": [
    "hex(6)"
   ]
  },
  {
   "cell_type": "code",
   "execution_count": 47,
   "id": "f514b639-3858-4f31-912d-99aa2614cfb8",
   "metadata": {},
   "outputs": [
    {
     "data": {
      "text/plain": [
       "'0x46'"
      ]
     },
     "execution_count": 47,
     "metadata": {},
     "output_type": "execute_result"
    }
   ],
   "source": [
    "hex(70)"
   ]
  },
  {
   "cell_type": "code",
   "execution_count": 49,
   "id": "527e882f-db8e-47c7-8773-7a5d9e0d8b67",
   "metadata": {},
   "outputs": [
    {
     "data": {
      "text/plain": [
       "'0xa'"
      ]
     },
     "execution_count": 49,
     "metadata": {},
     "output_type": "execute_result"
    }
   ],
   "source": [
    "hex(10)"
   ]
  },
  {
   "cell_type": "code",
   "execution_count": 51,
   "id": "d3d9bf47-60eb-4acf-a46c-d72f5672a194",
   "metadata": {},
   "outputs": [
    {
     "data": {
      "text/plain": [
       "67"
      ]
     },
     "execution_count": 51,
     "metadata": {},
     "output_type": "execute_result"
    }
   ],
   "source": [
    "int(0x43)"
   ]
  },
  {
   "cell_type": "code",
   "execution_count": 53,
   "id": "a146561a-a255-47a1-874f-39d9fdf6f044",
   "metadata": {},
   "outputs": [
    {
     "data": {
      "text/plain": [
       "10"
      ]
     },
     "execution_count": 53,
     "metadata": {},
     "output_type": "execute_result"
    }
   ],
   "source": [
    "0xa"
   ]
  },
  {
   "cell_type": "markdown",
   "id": "dc674612-2daf-40a6-8640-6d1a00c377e7",
   "metadata": {},
   "source": [
    "# Swap variable betwwn two numbers in different methods"
   ]
  },
  {
   "cell_type": "code",
   "execution_count": 56,
   "id": "42d191d6-51e9-419c-b969-fc78bc94a3af",
   "metadata": {},
   "outputs": [],
   "source": [
    "x= 5\n",
    "y=4"
   ]
  },
  {
   "cell_type": "code",
   "execution_count": 58,
   "id": "265f8a0a-f06c-4a4f-948e-eadf4a5d8f38",
   "metadata": {},
   "outputs": [],
   "source": [
    "x,y = y,x"
   ]
  },
  {
   "cell_type": "code",
   "execution_count": 60,
   "id": "1c578da9-9608-408e-b4f5-a706043336ba",
   "metadata": {},
   "outputs": [
    {
     "data": {
      "text/plain": [
       "4"
      ]
     },
     "execution_count": 60,
     "metadata": {},
     "output_type": "execute_result"
    }
   ],
   "source": [
    "x"
   ]
  },
  {
   "cell_type": "code",
   "execution_count": 62,
   "id": "91810fc8-f827-4287-b219-1ac64d80a8d4",
   "metadata": {},
   "outputs": [
    {
     "data": {
      "text/plain": [
       "5"
      ]
     },
     "execution_count": 62,
     "metadata": {},
     "output_type": "execute_result"
    }
   ],
   "source": [
    "y"
   ]
  },
  {
   "cell_type": "code",
   "execution_count": 78,
   "id": "0e9145d7-08b8-4f24-a6b3-5f1e9296482a",
   "metadata": {},
   "outputs": [],
   "source": [
    "x1 = 67\n",
    "x2 = 43"
   ]
  },
  {
   "cell_type": "code",
   "execution_count": 81,
   "id": "b107d5d9-24cc-461d-87e6-79b7fe592106",
   "metadata": {},
   "outputs": [],
   "source": [
    "temp =x1\n",
    "x1 = x2\n",
    "x2= temp"
   ]
  },
  {
   "cell_type": "code",
   "execution_count": 83,
   "id": "1862c987-696f-419f-8d9c-5d9508d0d433",
   "metadata": {},
   "outputs": [
    {
     "name": "stdout",
     "output_type": "stream",
     "text": [
      "43\n",
      "67\n"
     ]
    }
   ],
   "source": [
    "print(x1)\n",
    "print(x2)"
   ]
  },
  {
   "cell_type": "code",
   "execution_count": 85,
   "id": "4007d169-9626-4e4f-b032-af04f154b08f",
   "metadata": {},
   "outputs": [],
   "source": [
    "# Using addition, sub method\n",
    "a = 67\n",
    "b = 45"
   ]
  },
  {
   "cell_type": "code",
   "execution_count": 87,
   "id": "f9fe83a0-01b4-421d-8c87-d61e4e9f8500",
   "metadata": {},
   "outputs": [
    {
     "name": "stdout",
     "output_type": "stream",
     "text": [
      "45\n",
      "67\n"
     ]
    }
   ],
   "source": [
    "a = a+b # 67+45 = 112\n",
    "b = a-b # 112 - 45 = 67\n",
    "a = a -b # 112 - 67 =45\n",
    "print(a)\n",
    "print(b)"
   ]
  },
  {
   "cell_type": "code",
   "execution_count": 89,
   "id": "d1cdc140-6b51-42b5-a42f-d5e7afdddbd8",
   "metadata": {},
   "outputs": [
    {
     "name": "stdout",
     "output_type": "stream",
     "text": [
      "5\n",
      "6\n"
     ]
    }
   ],
   "source": [
    "print(0b101) # 101, 110 both are 3 bit\n",
    "print(0b110)\n"
   ]
  },
  {
   "cell_type": "code",
   "execution_count": 91,
   "id": "25a75b34-3edc-41d5-9916-eb7fd3d20788",
   "metadata": {},
   "outputs": [
    {
     "name": "stdout",
     "output_type": "stream",
     "text": [
      "0b1011\n",
      "11\n"
     ]
    }
   ],
   "source": [
    "print(bin(11))\n",
    "print(0b1011)"
   ]
  },
  {
   "cell_type": "code",
   "execution_count": 93,
   "id": "94c6b59e-3eef-46ed-b0cc-3fe327830773",
   "metadata": {},
   "outputs": [],
   "source": [
    "a = 7\n",
    "b = 8"
   ]
  },
  {
   "cell_type": "code",
   "execution_count": 97,
   "id": "079eb4c3-6e9a-410d-bfeb-83fe90a05fb6",
   "metadata": {},
   "outputs": [],
   "source": [
    "# another way of swap variable using  xor\\\n",
    "a = a^ b\n",
    "b = a^b\n",
    "a = a^b"
   ]
  },
  {
   "cell_type": "code",
   "execution_count": 100,
   "id": "7bebd968-d733-48f1-8c7b-23a92776a4f0",
   "metadata": {},
   "outputs": [
    {
     "name": "stdout",
     "output_type": "stream",
     "text": [
      "7\n",
      "8\n"
     ]
    }
   ],
   "source": [
    "print(a)\n",
    "print(b)"
   ]
  },
  {
   "cell_type": "markdown",
   "id": "941afd2b-95fb-44c4-8be8-9386ad0df5f4",
   "metadata": {},
   "source": [
    "# Bitwise opearator"
   ]
  },
  {
   "cell_type": "markdown",
   "id": "4f05a424-7cbd-4bf2-a777-5cb71c51ae7d",
   "metadata": {},
   "source": [
    "# 6 Opeartor\n",
    "## 1. Complement(~)\n",
    "## 2. And(&)\n",
    "## 3.OR(|)\n",
    "## 4.XOR(^)\n",
    "## 5.Left shift(<<)\n",
    "## 6.Right Shift(>>)\n"
   ]
  },
  {
   "cell_type": "markdown",
   "id": "05e75e7d-79b5-4c4d-950a-fdec24b91494",
   "metadata": {},
   "source": [
    "# Complement(~)\n",
    "# complement --> you will get this key below esc character\n",
    "## 12 ==> 1100 || \n",
    "## first thing we need to understand what is mean by complement. \n",
    "## complement means it will do reverse of the binary format i.e. - ~0 it will give you 1 ~1 it will give 0\n",
    "## 12 binary format is 00001100 ( complement of ~00001100 reverse the number - 11110011 which is (-13)\n",
    "\n",
    "## but the question is why we got -13 \n",
    "## to understand this concept ( we have concept of 2's complement\n",
    "## 2's complement mean (1's complemen## complement means it will do reverse of the binary format i.e. - ~0 it will give you 1 ~1 it will give 0t + 1)\n",
    "## in the system we can store +Ve number but how to store -ve number\n",
    " \n",
    "## lets understand binary form of 13 - 00001101 + 1 "
   ]
  },
  {
   "cell_type": "code",
   "execution_count": 112,
   "id": "93b6f944-5ae5-41eb-8061-ed03843043c8",
   "metadata": {},
   "outputs": [
    {
     "data": {
      "text/plain": [
       "-46"
      ]
     },
     "execution_count": 112,
     "metadata": {},
     "output_type": "execute_result"
    }
   ],
   "source": [
    "~45"
   ]
  },
  {
   "cell_type": "code",
   "execution_count": 114,
   "id": "4df7d11a-d654-4a9e-90e0-103a57f534ad",
   "metadata": {},
   "outputs": [
    {
     "data": {
      "text/plain": [
       "-787"
      ]
     },
     "execution_count": 114,
     "metadata": {},
     "output_type": "execute_result"
    }
   ],
   "source": [
    "~786"
   ]
  },
  {
   "cell_type": "code",
   "execution_count": 116,
   "id": "4a90405b-8847-4d38-b58f-f6196e2894da",
   "metadata": {},
   "outputs": [
    {
     "data": {
      "text/plain": [
       "55"
      ]
     },
     "execution_count": 116,
     "metadata": {},
     "output_type": "execute_result"
    }
   ],
   "source": [
    "~-56 #minus value"
   ]
  },
  {
   "cell_type": "code",
   "execution_count": 118,
   "id": "e202e284-53a7-4f54-8720-42fb874f04a3",
   "metadata": {},
   "outputs": [
    {
     "ename": "TypeError",
     "evalue": "bad operand type for unary ~: 'float'",
     "output_type": "error",
     "traceback": [
      "\u001b[1;31m---------------------------------------------------------------------------\u001b[0m",
      "\u001b[1;31mTypeError\u001b[0m                                 Traceback (most recent call last)",
      "Cell \u001b[1;32mIn[118], line 1\u001b[0m\n\u001b[1;32m----> 1\u001b[0m \u001b[38;5;241;43m~\u001b[39;49m\u001b[38;5;241;43m9.78\u001b[39;49m\n",
      "\u001b[1;31mTypeError\u001b[0m: bad operand type for unary ~: 'float'"
     ]
    }
   ],
   "source": [
    "~9.78 #error(float)"
   ]
  },
  {
   "cell_type": "code",
   "execution_count": 120,
   "id": "de6817ce-4c06-4f35-bdc4-2e10fe22fb1e",
   "metadata": {},
   "outputs": [
    {
     "data": {
      "text/plain": [
       "(-7+10j)"
      ]
     },
     "execution_count": 120,
     "metadata": {},
     "output_type": "execute_result"
    }
   ],
   "source": [
    "~6+10j #complex"
   ]
  },
  {
   "cell_type": "markdown",
   "id": "7376c03f-f59c-46cd-8bd3-a4845b47edb8",
   "metadata": {},
   "source": [
    "# BITWISE OPERATOR\n",
    "# bit wise and operator \n",
    "\n",
    "## AND - LOGICAL OPERATOR ||| & - BITWISE AND OPERATOR  \n",
    "## (we know that 1 & 1 is 1)\n",
    "## 12 - 00001100 \n",
    "## 13 - 00001101\n",
    "## when we are add both then then outut we will get as 12 "
   ]
  },
  {
   "cell_type": "code",
   "execution_count": 136,
   "id": "bb92dcd2-08f6-4a85-ab5e-befb4ef06ab1",
   "metadata": {},
   "outputs": [
    {
     "data": {
      "text/plain": [
       "12"
      ]
     },
     "execution_count": 136,
     "metadata": {},
     "output_type": "execute_result"
    }
   ],
   "source": [
    "12 & 13"
   ]
  },
  {
   "cell_type": "code",
   "execution_count": 139,
   "id": "b4ccbf9f-52eb-46e5-b01f-20df078a862e",
   "metadata": {},
   "outputs": [
    {
     "data": {
      "text/plain": [
       "12"
      ]
     },
     "execution_count": 139,
     "metadata": {},
     "output_type": "execute_result"
    }
   ],
   "source": [
    "12 & 13"
   ]
  },
  {
   "cell_type": "code",
   "execution_count": 141,
   "id": "b62dc376-c904-4764-8eb5-a2a993317c14",
   "metadata": {},
   "outputs": [
    {
     "data": {
      "text/plain": [
       "1"
      ]
     },
     "execution_count": 141,
     "metadata": {},
     "output_type": "execute_result"
    }
   ],
   "source": [
    "1 & 1"
   ]
  },
  {
   "cell_type": "code",
   "execution_count": 143,
   "id": "4e1f42e1-5bc6-4bfb-a297-5269d5d0bbf5",
   "metadata": {},
   "outputs": [
    {
     "data": {
      "text/plain": [
       "1"
      ]
     },
     "execution_count": 143,
     "metadata": {},
     "output_type": "execute_result"
    }
   ],
   "source": [
    "1 | 1"
   ]
  },
  {
   "cell_type": "code",
   "execution_count": 145,
   "id": "890274ae-7832-4811-98ae-3146b48827af",
   "metadata": {},
   "outputs": [
    {
     "data": {
      "text/plain": [
       "0"
      ]
     },
     "execution_count": 145,
     "metadata": {},
     "output_type": "execute_result"
    }
   ],
   "source": [
    "1 & 0"
   ]
  },
  {
   "cell_type": "code",
   "execution_count": 147,
   "id": "ccd7698f-440b-473b-abf1-8f0a213b2c5f",
   "metadata": {},
   "outputs": [
    {
     "data": {
      "text/plain": [
       "1"
      ]
     },
     "execution_count": 147,
     "metadata": {},
     "output_type": "execute_result"
    }
   ],
   "source": [
    "# in XOR if the both number are different then we will get 1 or else we will get 0\n",
    "\n",
    "12 ^ 13"
   ]
  },
  {
   "cell_type": "code",
   "execution_count": 149,
   "id": "3be11e62-35d8-4f1f-8a00-0a18f2faa47d",
   "metadata": {},
   "outputs": [
    {
     "data": {
      "text/plain": [
       "7"
      ]
     },
     "execution_count": 149,
     "metadata": {},
     "output_type": "execute_result"
    }
   ],
   "source": [
    "25 ^ 30"
   ]
  },
  {
   "cell_type": "code",
   "execution_count": 151,
   "id": "d421e29e-e30d-4493-b669-a0b6203883c8",
   "metadata": {},
   "outputs": [
    {
     "data": {
      "text/plain": [
       "'0b11001'"
      ]
     },
     "execution_count": 151,
     "metadata": {},
     "output_type": "execute_result"
    }
   ],
   "source": [
    "bin(25)"
   ]
  },
  {
   "cell_type": "code",
   "execution_count": 153,
   "id": "a42a2d2b-6870-4d6c-8128-92d819897b37",
   "metadata": {},
   "outputs": [
    {
     "data": {
      "text/plain": [
       "'0b11110'"
      ]
     },
     "execution_count": 153,
     "metadata": {},
     "output_type": "execute_result"
    }
   ],
   "source": [
    "bin(30)"
   ]
  },
  {
   "cell_type": "code",
   "execution_count": 155,
   "id": "ea2f196a-01f7-4b34-bffc-cdaf2883b57e",
   "metadata": {},
   "outputs": [
    {
     "data": {
      "text/plain": [
       "30"
      ]
     },
     "execution_count": 155,
     "metadata": {},
     "output_type": "execute_result"
    }
   ],
   "source": [
    "int(0b11110)"
   ]
  },
  {
   "cell_type": "markdown",
   "id": "3ca7621c-d113-4666-b7eb-80d372d271a3",
   "metadata": {},
   "source": [
    "# BIT WISE LEFT OPERATOR\n",
    "# bit wise left operator bydefault you will take 2 zeros ( )\n",
    "# 10 binary operator is 1010 | also i can say 1010\n"
   ]
  },
  {
   "cell_type": "code",
   "execution_count": 163,
   "id": "5d2546d9-ea74-4dd5-9e2f-892f606a2b1b",
   "metadata": {},
   "outputs": [
    {
     "data": {
      "text/plain": [
       "40"
      ]
     },
     "execution_count": 163,
     "metadata": {},
     "output_type": "execute_result"
    }
   ],
   "source": [
    "10<<2"
   ]
  },
  {
   "cell_type": "code",
   "execution_count": 165,
   "id": "70ecba2f-10c5-4dd7-b198-429a0501a650",
   "metadata": {},
   "outputs": [
    {
     "data": {
      "text/plain": [
       "400"
      ]
     },
     "execution_count": 165,
     "metadata": {},
     "output_type": "execute_result"
    }
   ],
   "source": [
    "50<<3"
   ]
  },
  {
   "cell_type": "markdown",
   "id": "b3b649b7-00a9-4942-afcf-49af00740f1a",
   "metadata": {},
   "source": [
    "# BITWISE RIGHT SHIFT OPERATOR"
   ]
  },
  {
   "cell_type": "code",
   "execution_count": 170,
   "id": "c85f6fb7-af42-4493-8113-80f31881564d",
   "metadata": {},
   "outputs": [
    {
     "data": {
      "text/plain": [
       "2"
      ]
     },
     "execution_count": 170,
     "metadata": {},
     "output_type": "execute_result"
    }
   ],
   "source": [
    "10>>2"
   ]
  },
  {
   "cell_type": "code",
   "execution_count": 172,
   "id": "c8bee36c-17b8-4367-9785-e12ed6542957",
   "metadata": {},
   "outputs": [
    {
     "data": {
      "text/plain": [
       "'0b10100'"
      ]
     },
     "execution_count": 172,
     "metadata": {},
     "output_type": "execute_result"
    }
   ],
   "source": [
    "bin(20)"
   ]
  },
  {
   "cell_type": "code",
   "execution_count": 174,
   "id": "97abddd7-855a-4f2d-8cbd-67e22abb729e",
   "metadata": {},
   "outputs": [
    {
     "data": {
      "text/plain": [
       "12"
      ]
     },
     "execution_count": 174,
     "metadata": {},
     "output_type": "execute_result"
    }
   ],
   "source": [
    "50>>2"
   ]
  },
  {
   "cell_type": "markdown",
   "id": "f9c1f4f3-f8b9-4c4c-85e4-998dbca7e85b",
   "metadata": {},
   "source": [
    "# Import Math Module\n",
    "  https://docs.python.org/3/library/math.html"
   ]
  },
  {
   "cell_type": "code",
   "execution_count": 178,
   "id": "bfc56b2d-b282-4471-8634-cc0cacc0299f",
   "metadata": {},
   "outputs": [
    {
     "ename": "NameError",
     "evalue": "name 'sqrt' is not defined",
     "output_type": "error",
     "traceback": [
      "\u001b[1;31m---------------------------------------------------------------------------\u001b[0m",
      "\u001b[1;31mNameError\u001b[0m                                 Traceback (most recent call last)",
      "Cell \u001b[1;32mIn[178], line 1\u001b[0m\n\u001b[1;32m----> 1\u001b[0m x \u001b[38;5;241m=\u001b[39m \u001b[43msqrt\u001b[49m(\u001b[38;5;241m625\u001b[39m)\n",
      "\u001b[1;31mNameError\u001b[0m: name 'sqrt' is not defined"
     ]
    }
   ],
   "source": [
    "x = sqrt(625) # here sqrt is inbult fuc"
   ]
  },
  {
   "cell_type": "code",
   "execution_count": 180,
   "id": "bb8278d2-d528-4620-b0c0-bd455d001802",
   "metadata": {},
   "outputs": [],
   "source": [
    "import math # importing math module\n"
   ]
  },
  {
   "cell_type": "code",
   "execution_count": 186,
   "id": "a643aba9-104d-4d3c-9736-56defd86fcd6",
   "metadata": {},
   "outputs": [
    {
     "data": {
      "text/plain": [
       "25.0"
      ]
     },
     "execution_count": 186,
     "metadata": {},
     "output_type": "execute_result"
    }
   ],
   "source": [
    "x =  math.sqrt(625)\n",
    "x"
   ]
  },
  {
   "cell_type": "code",
   "execution_count": 188,
   "id": "ea2da2dc-ee9e-4274-abd4-db438d9e450e",
   "metadata": {},
   "outputs": [
    {
     "name": "stdout",
     "output_type": "stream",
     "text": [
      "2\n"
     ]
    }
   ],
   "source": [
    "print(math.floor(2.9)) #minmum or least value"
   ]
  },
  {
   "cell_type": "code",
   "execution_count": 190,
   "id": "972e1bc1-135e-4f4d-9c06-b07da73ff2ab",
   "metadata": {},
   "outputs": [
    {
     "name": "stdout",
     "output_type": "stream",
     "text": [
      "3\n"
     ]
    }
   ],
   "source": [
    "print(math.ceil(2.9)) #maximum or highest value"
   ]
  },
  {
   "cell_type": "code",
   "execution_count": 192,
   "id": "ad60714e-ac48-4057-bdb7-e6c0849e9c97",
   "metadata": {},
   "outputs": [
    {
     "name": "stdout",
     "output_type": "stream",
     "text": [
      "36.0\n"
     ]
    }
   ],
   "source": [
    "print(math.pow(6,2))"
   ]
  },
  {
   "cell_type": "code",
   "execution_count": 194,
   "id": "8d0501d7-010e-42ae-b640-60c5adbe0d02",
   "metadata": {},
   "outputs": [
    {
     "name": "stdout",
     "output_type": "stream",
     "text": [
      "3.141592653589793\n"
     ]
    }
   ],
   "source": [
    "print(math.pi) #constant value"
   ]
  },
  {
   "cell_type": "code",
   "execution_count": 196,
   "id": "6d6b9396-a36b-4dc5-93d5-5fc46f3365a8",
   "metadata": {},
   "outputs": [
    {
     "name": "stdout",
     "output_type": "stream",
     "text": [
      "2.718281828459045\n"
     ]
    }
   ],
   "source": [
    "print(math.e)"
   ]
  },
  {
   "cell_type": "code",
   "execution_count": 198,
   "id": "0bf10570-ad7d-45df-bd3c-97dafc4698f9",
   "metadata": {},
   "outputs": [
    {
     "data": {
      "text/plain": [
       "35.0"
      ]
     },
     "execution_count": 198,
     "metadata": {},
     "output_type": "execute_result"
    }
   ],
   "source": [
    "import math as m\n",
    "m.sqrt(1225)"
   ]
  },
  {
   "cell_type": "code",
   "execution_count": 200,
   "id": "d177fb89-a790-408a-8653-c5c29d41c93b",
   "metadata": {},
   "outputs": [
    {
     "data": {
      "text/plain": [
       "4782969.0"
      ]
     },
     "execution_count": 200,
     "metadata": {},
     "output_type": "execute_result"
    }
   ],
   "source": [
    "import math as m\n",
    "m.pow(9,7)"
   ]
  },
  {
   "cell_type": "code",
   "execution_count": 202,
   "id": "5205c26b-d109-437e-be79-489505a9cdbc",
   "metadata": {},
   "outputs": [
    {
     "data": {
      "text/plain": [
       "8.0"
      ]
     },
     "execution_count": 202,
     "metadata": {},
     "output_type": "execute_result"
    }
   ],
   "source": [
    "from math import pow\n",
    "pow(2,3)"
   ]
  },
  {
   "cell_type": "code",
   "execution_count": 204,
   "id": "66c8d778-d406-4c64-a13c-4e5be3c2faf3",
   "metadata": {},
   "outputs": [
    {
     "data": {
      "text/plain": [
       "9"
      ]
     },
     "execution_count": 204,
     "metadata": {},
     "output_type": "execute_result"
    }
   ],
   "source": [
    "from math import ceil\n",
    "ceil(8.97)"
   ]
  },
  {
   "cell_type": "code",
   "execution_count": 208,
   "id": "0172fc63-1993-4782-b50c-54287a261e73",
   "metadata": {},
   "outputs": [
    {
     "name": "stdout",
     "output_type": "stream",
     "text": [
      "4096.0\n",
      "6\n"
     ]
    }
   ],
   "source": [
    "from math import *\n",
    "print(pow(4,6))\n",
    "print(ceil(5.5))"
   ]
  },
  {
   "cell_type": "code",
   "execution_count": 210,
   "id": "a3e7fff0-be82-4159-8e70-9bb46cab6966",
   "metadata": {},
   "outputs": [
    {
     "data": {
      "text/plain": [
       "81"
      ]
     },
     "execution_count": 210,
     "metadata": {},
     "output_type": "execute_result"
    }
   ],
   "source": [
    "round(pow(9,2))"
   ]
  },
  {
   "cell_type": "markdown",
   "id": "0fc69c8e-7ceb-4560-937d-1fa3935d9270",
   "metadata": {},
   "source": [
    "# User input Function || comand line input"
   ]
  },
  {
   "cell_type": "code",
   "execution_count": 215,
   "id": "814eaacf-58e8-4ec0-ba50-62ddec3f5575",
   "metadata": {},
   "outputs": [
    {
     "name": "stdin",
     "output_type": "stream",
     "text": [
      " 5\n",
      " 6\n"
     ]
    },
    {
     "name": "stdout",
     "output_type": "stream",
     "text": [
      "56\n"
     ]
    }
   ],
   "source": [
    "r = input()\n",
    "z = input()\n",
    "c = r + z\n",
    "print(c) #console is waiting for user to enter input \n",
    "# also if you work in idle"
   ]
  },
  {
   "cell_type": "code",
   "execution_count": 217,
   "id": "83d56c6c-aac1-45f8-9039-106e104f069f",
   "metadata": {},
   "outputs": [
    {
     "name": "stdin",
     "output_type": "stream",
     "text": [
      "first number 45\n",
      "Second number 67\n"
     ]
    },
    {
     "data": {
      "text/plain": [
       "'4567'"
      ]
     },
     "execution_count": 217,
     "metadata": {},
     "output_type": "execute_result"
    }
   ],
   "source": [
    "z1= input('first number')\n",
    "z2 = input('Second number')\n",
    "z3 = z1+z2\n",
    "z3"
   ]
  },
  {
   "cell_type": "code",
   "execution_count": 219,
   "id": "a6ee131e-983f-41bc-85b7-595b874d95ad",
   "metadata": {},
   "outputs": [
    {
     "data": {
      "text/plain": [
       "str"
      ]
     },
     "execution_count": 219,
     "metadata": {},
     "output_type": "execute_result"
    }
   ],
   "source": [
    "type(z1)\n",
    "type(z3)"
   ]
  },
  {
   "cell_type": "code",
   "execution_count": 223,
   "id": "ff845220-e683-46ed-a083-4188b0ad1fd3",
   "metadata": {},
   "outputs": [
    {
     "name": "stdin",
     "output_type": "stream",
     "text": [
      "Enter number 34\n",
      "Enter a number 90\n"
     ]
    },
    {
     "name": "stdout",
     "output_type": "stream",
     "text": [
      "124\n"
     ]
    }
   ],
   "source": [
    "x1 = input(\"Enter number\")\n",
    "a = int(x1)\n",
    "x2 = input(\"Enter a number\")\n",
    "b  = int(x2)\n",
    "c = a +b\n",
    "print(c)"
   ]
  },
  {
   "cell_type": "markdown",
   "id": "a73da09d-2df7-4ba4-af74-4a5cde466940",
   "metadata": {},
   "source": [
    "from above code notice we are using many lines because fo that wasting some memory spaces as well\n"
   ]
  },
  {
   "cell_type": "code",
   "execution_count": 226,
   "id": "b75e445e-a950-41fc-9086-0f989bb87eb9",
   "metadata": {},
   "outputs": [
    {
     "name": "stdin",
     "output_type": "stream",
     "text": [
      "1st number 345\n",
      "2nd number 65\n"
     ]
    },
    {
     "data": {
      "text/plain": [
       "410"
      ]
     },
     "execution_count": 226,
     "metadata": {},
     "output_type": "execute_result"
    }
   ],
   "source": [
    "a = int(input(\"1st number\"))\n",
    "b = int(input(\"2nd number\"))\n",
    "c = a+b\n",
    "c"
   ]
  },
  {
   "cell_type": "markdown",
   "id": "5ede4a19-b172-4614-8d55-447432cfdaf0",
   "metadata": {},
   "source": [
    "lets take input from the user in char format, but we dont have char format in python"
   ]
  },
  {
   "cell_type": "code",
   "execution_count": 229,
   "id": "8fdc19cb-9848-4a67-80c2-4c17a2c78f01",
   "metadata": {},
   "outputs": [
    {
     "name": "stdin",
     "output_type": "stream",
     "text": [
      "Enter a char ratna\n"
     ]
    },
    {
     "name": "stdout",
     "output_type": "stream",
     "text": [
      "ratna\n"
     ]
    }
   ],
   "source": [
    "ch = input(\"Enter a char\")\n",
    "print(ch)"
   ]
  },
  {
   "cell_type": "code",
   "execution_count": 231,
   "id": "7241c538-0e73-444f-9661-90bf379c4b1b",
   "metadata": {},
   "outputs": [
    {
     "name": "stdout",
     "output_type": "stream",
     "text": [
      "r\n"
     ]
    }
   ],
   "source": [
    "print(ch[0])"
   ]
  },
  {
   "cell_type": "code",
   "execution_count": 233,
   "id": "354bb1ee-e9be-4ffb-9029-70509fee89e9",
   "metadata": {},
   "outputs": [
    {
     "name": "stdout",
     "output_type": "stream",
     "text": [
      "a\n"
     ]
    }
   ],
   "source": [
    "print(ch[-1])"
   ]
  },
  {
   "cell_type": "code",
   "execution_count": 235,
   "id": "6ebc268c-e036-44af-8b75-5da4fb6afa14",
   "metadata": {},
   "outputs": [
    {
     "name": "stdin",
     "output_type": "stream",
     "text": [
      "Entera character travel\n"
     ]
    },
    {
     "data": {
      "text/plain": [
       "'t'"
      ]
     },
     "execution_count": 235,
     "metadata": {},
     "output_type": "execute_result"
    }
   ],
   "source": [
    "ch = input(\"Entera character\")[0]\n",
    "ch"
   ]
  },
  {
   "cell_type": "code",
   "execution_count": 237,
   "id": "47206681-8e2b-4b55-b232-98fdf7710fd9",
   "metadata": {},
   "outputs": [
    {
     "name": "stdin",
     "output_type": "stream",
     "text": [
      "Enter  Odisha for\n"
     ]
    },
    {
     "data": {
      "text/plain": [
       "'di'"
      ]
     },
     "execution_count": 237,
     "metadata": {},
     "output_type": "execute_result"
    }
   ],
   "source": [
    "ch = input(\"Enter \")[1:3]\n",
    "ch"
   ]
  },
  {
   "cell_type": "code",
   "execution_count": 239,
   "id": "660e5761-6286-4b73-b408-a51b320129a5",
   "metadata": {},
   "outputs": [
    {
     "name": "stdin",
     "output_type": "stream",
     "text": [
      "Enter 45+67-0\n"
     ]
    },
    {
     "data": {
      "text/plain": [
       "'45+67-0'"
      ]
     },
     "execution_count": 239,
     "metadata": {},
     "output_type": "execute_result"
    }
   ],
   "source": [
    "ch = input(\"Enter\")\n",
    "ch"
   ]
  },
  {
   "cell_type": "markdown",
   "id": "7926bb8b-ad0a-429d-ba70-0a6cac2f4ca2",
   "metadata": {},
   "source": [
    "# Eval fuc using input"
   ]
  },
  {
   "cell_type": "code",
   "execution_count": 244,
   "id": "8d046c0f-5572-4e60-aa01-bd7df31e13ab",
   "metadata": {},
   "outputs": [
    {
     "name": "stdin",
     "output_type": "stream",
     "text": [
      "enter a expr 45\n"
     ]
    },
    {
     "name": "stdout",
     "output_type": "stream",
     "text": [
      "45\n"
     ]
    }
   ],
   "source": [
    "result = eval(input('enter a expr'))\n",
    "print(result)"
   ]
  },
  {
   "cell_type": "code",
   "execution_count": null,
   "id": "06ec8941-8baf-427d-9b06-c18c61426540",
   "metadata": {},
   "outputs": [],
   "source": []
  }
 ],
 "metadata": {
  "kernelspec": {
   "display_name": "Python 3 (ipykernel)",
   "language": "python",
   "name": "python3"
  },
  "language_info": {
   "codemirror_mode": {
    "name": "ipython",
    "version": 3
   },
   "file_extension": ".py",
   "mimetype": "text/x-python",
   "name": "python",
   "nbconvert_exporter": "python",
   "pygments_lexer": "ipython3",
   "version": "3.12.4"
  }
 },
 "nbformat": 4,
 "nbformat_minor": 5
}
