{
 "cells": [
  {
   "cell_type": "code",
   "execution_count": 1,
   "id": "17eccd98-01b8-4989-aee2-f164a842a0b5",
   "metadata": {},
   "outputs": [],
   "source": [
    "def greet():\n",
    "    print('hello')\n",
    "    print('good morning')"
   ]
  },
  {
   "cell_type": "code",
   "execution_count": 4,
   "id": "9751281a-2b66-4b91-8c54-121ec1ed636d",
   "metadata": {},
   "outputs": [
    {
     "name": "stdout",
     "output_type": "stream",
     "text": [
      "hello\n",
      "good morning\n"
     ]
    }
   ],
   "source": [
    "def greet():\n",
    "    print('hello')\n",
    "    print('good morning')\n",
    "greet()"
   ]
  },
  {
   "cell_type": "code",
   "execution_count": 5,
   "id": "c5f4d377-abd5-4147-ae87-19873c5bf97e",
   "metadata": {},
   "outputs": [
    {
     "name": "stdout",
     "output_type": "stream",
     "text": [
      "hello\n",
      "good morning\n",
      "hello\n",
      "good morning\n"
     ]
    }
   ],
   "source": [
    "def greet():\n",
    "    print('hello')\n",
    "    print('good morning')\n",
    "greet()\n",
    "\n",
    "def greet():\n",
    "    print('hello')\n",
    "    print('good morning')\n",
    "greet()"
   ]
  },
  {
   "cell_type": "code",
   "execution_count": 9,
   "id": "3e42bc3f-7815-474b-ae68-dfcc90590ef0",
   "metadata": {},
   "outputs": [
    {
     "name": "stdout",
     "output_type": "stream",
     "text": [
      "hello\n",
      "good morning\n",
      "\n",
      "hello\n",
      "good morning\n"
     ]
    }
   ],
   "source": [
    "def greet():\n",
    "    print('hello')\n",
    "    print('good morning')\n",
    "greet()\n",
    "\n",
    "print()\n",
    "\n",
    "greet()\n"
   ]
  },
  {
   "cell_type": "code",
   "execution_count": 11,
   "id": "3c88c2cf-9a7e-4b3e-b5a3-93cbe8486d4a",
   "metadata": {},
   "outputs": [
    {
     "name": "stdout",
     "output_type": "stream",
     "text": [
      "hello\n",
      "good morning\n",
      "*******************\n",
      "hello\n",
      "good morning\n",
      "############\n"
     ]
    }
   ],
   "source": [
    "def greet():\n",
    "    print('hello')\n",
    "    print('good morning')\n",
    "greet()\n",
    "\n",
    "print('*******************')\n",
    "\n",
    "greet()\n",
    "\n",
    "print('############')\n"
   ]
  },
  {
   "cell_type": "markdown",
   "id": "0e5d47e0-9cbf-4ee0-8af4-7d80c4df997b",
   "metadata": {},
   "source": [
    "# define the function without argument "
   ]
  },
  {
   "cell_type": "code",
   "execution_count": 13,
   "id": "f9fc7446-9a1f-4c63-b30b-52da30956b79",
   "metadata": {},
   "outputs": [
    {
     "ename": "TypeError",
     "evalue": "add() missing 1 required positional argument: 'y'",
     "output_type": "error",
     "traceback": [
      "\u001b[1;31m---------------------------------------------------------------------------\u001b[0m",
      "\u001b[1;31mTypeError\u001b[0m                                 Traceback (most recent call last)",
      "Cell \u001b[1;32mIn[13], line 4\u001b[0m\n\u001b[0;32m      2\u001b[0m     c\u001b[38;5;241m=\u001b[39mx\u001b[38;5;241m+\u001b[39my\n\u001b[0;32m      3\u001b[0m     \u001b[38;5;28mprint\u001b[39m(c)  \n\u001b[1;32m----> 4\u001b[0m add(\u001b[38;5;241m5\u001b[39m)\n",
      "\u001b[1;31mTypeError\u001b[0m: add() missing 1 required positional argument: 'y'"
     ]
    }
   ],
   "source": [
    "def add(x,y):\n",
    "    c=x+y\n",
    "    print(c)  \n",
    "add(5)"
   ]
  },
  {
   "cell_type": "code",
   "execution_count": 17,
   "id": "b56e981f-48e3-43a2-92cd-711b8dfa85b6",
   "metadata": {},
   "outputs": [
    {
     "ename": "TypeError",
     "evalue": "add() takes 2 positional arguments but 4 were given",
     "output_type": "error",
     "traceback": [
      "\u001b[1;31m---------------------------------------------------------------------------\u001b[0m",
      "\u001b[1;31mTypeError\u001b[0m                                 Traceback (most recent call last)",
      "Cell \u001b[1;32mIn[17], line 4\u001b[0m\n\u001b[0;32m      2\u001b[0m     c\u001b[38;5;241m=\u001b[39mx\u001b[38;5;241m+\u001b[39my\n\u001b[0;32m      3\u001b[0m     \u001b[38;5;28mprint\u001b[39m(c)  \n\u001b[1;32m----> 4\u001b[0m add(\u001b[38;5;241m5\u001b[39m,\u001b[38;5;241m6\u001b[39m,\u001b[38;5;241m7\u001b[39m,\u001b[38;5;241m8\u001b[39m)\n",
      "\u001b[1;31mTypeError\u001b[0m: add() takes 2 positional arguments but 4 were given"
     ]
    }
   ],
   "source": [
    "def add(x,y):\n",
    "    c=x+y\n",
    "    print(c)  \n",
    "add(5,6,7,8)"
   ]
  },
  {
   "cell_type": "code",
   "execution_count": 18,
   "id": "f8c0cae9-1876-44bd-a987-77e37ae2e82a",
   "metadata": {},
   "outputs": [
    {
     "ename": "TypeError",
     "evalue": "unsupported operand type(s) for +: 'int' and 'str'",
     "output_type": "error",
     "traceback": [
      "\u001b[1;31m---------------------------------------------------------------------------\u001b[0m",
      "\u001b[1;31mTypeError\u001b[0m                                 Traceback (most recent call last)",
      "Cell \u001b[1;32mIn[18], line 4\u001b[0m\n\u001b[0;32m      2\u001b[0m     c\u001b[38;5;241m=\u001b[39mx\u001b[38;5;241m+\u001b[39my\n\u001b[0;32m      3\u001b[0m     \u001b[38;5;28mprint\u001b[39m(c)  \n\u001b[1;32m----> 4\u001b[0m add(\u001b[38;5;241m5\u001b[39m,\u001b[38;5;124m'\u001b[39m\u001b[38;5;124ma\u001b[39m\u001b[38;5;124m'\u001b[39m)\n",
      "Cell \u001b[1;32mIn[18], line 2\u001b[0m, in \u001b[0;36madd\u001b[1;34m(x, y)\u001b[0m\n\u001b[0;32m      1\u001b[0m \u001b[38;5;28;01mdef\u001b[39;00m \u001b[38;5;21madd\u001b[39m(x,y):\n\u001b[1;32m----> 2\u001b[0m     c\u001b[38;5;241m=\u001b[39mx\u001b[38;5;241m+\u001b[39my\n\u001b[0;32m      3\u001b[0m     \u001b[38;5;28mprint\u001b[39m(c)\n",
      "\u001b[1;31mTypeError\u001b[0m: unsupported operand type(s) for +: 'int' and 'str'"
     ]
    }
   ],
   "source": [
    "def add(x,y):\n",
    "    c=x+y\n",
    "    print(c)  \n",
    "add(5,'a')"
   ]
  },
  {
   "cell_type": "code",
   "execution_count": 20,
   "id": "94aa098f-bb16-4787-8548-df0319c11fad",
   "metadata": {},
   "outputs": [
    {
     "name": "stdout",
     "output_type": "stream",
     "text": [
      "9\n"
     ]
    }
   ],
   "source": [
    "def add(x,y):\n",
    "    c=x+y\n",
    "    print(c)  \n",
    "add(5,4)"
   ]
  },
  {
   "cell_type": "code",
   "execution_count": 21,
   "id": "6fb7802d-ac10-4d18-876e-c3433e2e1716",
   "metadata": {},
   "outputs": [
    {
     "name": "stdout",
     "output_type": "stream",
     "text": [
      "hello\n",
      "good morning\n",
      "9\n"
     ]
    }
   ],
   "source": [
    "def greet():\n",
    "    print('hello')\n",
    "    print('good morning')\n",
    "greet()\n",
    "\n",
    "def add(x,y):\n",
    "    c=x+y\n",
    "    print(c)  \n",
    "add(5,4)"
   ]
  },
  {
   "cell_type": "code",
   "execution_count": 24,
   "id": "702a5bd7-d123-4c1c-82bc-fbcd910bcc80",
   "metadata": {},
   "outputs": [
    {
     "name": "stdout",
     "output_type": "stream",
     "text": [
      "hello\n",
      "good morning\n",
      "-----\n",
      "9\n"
     ]
    }
   ],
   "source": [
    "def greet():\n",
    "    print('hello')\n",
    "    print('good morning')\n",
    "def add(x,y):\n",
    "    c=x+y\n",
    "    print(c)  \n",
    "\n",
    "greet()\n",
    "print('-----')\n",
    "add(5,4)"
   ]
  },
  {
   "cell_type": "code",
   "execution_count": 25,
   "id": "4da66d2e-b1ed-48f9-af4b-6f208d1d8caf",
   "metadata": {},
   "outputs": [
    {
     "name": "stdout",
     "output_type": "stream",
     "text": [
      "9\n"
     ]
    }
   ],
   "source": [
    "def add(x,y):\n",
    "    c=x+y\n",
    "    print(c)  \n",
    "add(5,4)"
   ]
  },
  {
   "cell_type": "code",
   "execution_count": 27,
   "id": "8aa30da7-d1e5-4492-8f74-59d2d7ca1d03",
   "metadata": {},
   "outputs": [
    {
     "data": {
      "text/plain": [
       "9"
      ]
     },
     "execution_count": 27,
     "metadata": {},
     "output_type": "execute_result"
    }
   ],
   "source": [
    "def add(x,y):\n",
    "    c=x+y\n",
    "    return c  \n",
    "add(5,4)"
   ]
  },
  {
   "cell_type": "code",
   "execution_count": 28,
   "id": "68edacfc-4059-4d03-9c34-dbf2711ecb25",
   "metadata": {},
   "outputs": [
    {
     "name": "stdout",
     "output_type": "stream",
     "text": [
      "10\n"
     ]
    }
   ],
   "source": [
    "def add(x,y,z):\n",
    "    c=x+y+z\n",
    "    print(c)  \n",
    "add(1,4,5)"
   ]
  },
  {
   "cell_type": "code",
   "execution_count": 29,
   "id": "103712f4-1466-41d6-97ad-28098af2e9ac",
   "metadata": {},
   "outputs": [
    {
     "name": "stdout",
     "output_type": "stream",
     "text": [
      "hello\n",
      "good noon\n"
     ]
    },
    {
     "data": {
      "text/plain": [
       "8"
      ]
     },
     "execution_count": 29,
     "metadata": {},
     "output_type": "execute_result"
    }
   ],
   "source": [
    "def greet():\n",
    "    print('hello')\n",
    "    print('good noon')\n",
    "    \n",
    "def add(x,y):\n",
    "    c=x+y\n",
    "    return c\n",
    "\n",
    "def sub(x,y):\n",
    "    d = x-y\n",
    "    return d\n",
    "    \n",
    "greet()    \n",
    "add(5,4)\n",
    "sub(10,2)"
   ]
  },
  {
   "cell_type": "code",
   "execution_count": 30,
   "id": "efc1819a-ea48-42b6-82c5-b6feeec957b7",
   "metadata": {},
   "outputs": [
    {
     "name": "stdout",
     "output_type": "stream",
     "text": [
      "hello\n",
      "good noon\n"
     ]
    },
    {
     "data": {
      "text/plain": [
       "(9, 1)"
      ]
     },
     "execution_count": 30,
     "metadata": {},
     "output_type": "execute_result"
    }
   ],
   "source": [
    "def greet():\n",
    "    print('hello')\n",
    "    print('good noon')\n",
    "    \n",
    "def add_sub(x,y):\n",
    "    c=x+y\n",
    "    d=x-y\n",
    "    return c,d\n",
    "\n",
    "greet()    \n",
    "add_sub(5,4)"
   ]
  },
  {
   "cell_type": "code",
   "execution_count": 32,
   "id": "97b7fd0f-8bfd-4f30-b521-7a8a5f71add0",
   "metadata": {},
   "outputs": [
    {
     "name": "stdout",
     "output_type": "stream",
     "text": [
      "(9, -1)\n",
      "<class 'tuple'>\n"
     ]
    }
   ],
   "source": [
    "def add_sub(x,y): # what if i want to return 2 values add_sub & i want to return 2 values & function can accept multiple value \n",
    "    c= x+y\n",
    "    d= x-y\n",
    "    return c, d\n",
    "    \n",
    "result = add_sub(4,5)\n",
    "\n",
    "print(result)\n",
    "print(type(result))"
   ]
  },
  {
   "cell_type": "code",
   "execution_count": 33,
   "id": "8f7741d2-6a58-481d-a5ab-47705782b757",
   "metadata": {},
   "outputs": [
    {
     "name": "stdout",
     "output_type": "stream",
     "text": [
      "9 1\n",
      "<class 'int'>\n",
      "<class 'int'>\n"
     ]
    }
   ],
   "source": [
    "def add_sub(x,y):\n",
    "    c= x+y\n",
    "    d= x-y\n",
    "    return c, d\n",
    "\n",
    "res1,res2 = add_sub(5,4)\n",
    "\n",
    "print(res1,res2)\n",
    "\n",
    "print(type(res1))\n",
    "print(type(res2))"
   ]
  },
  {
   "cell_type": "markdown",
   "id": "17e76330-7913-4070-a94f-9e67bc270ecc",
   "metadata": {},
   "source": [
    "# update variable "
   ]
  },
  {
   "cell_type": "code",
   "execution_count": 1,
   "id": "c296bf04-8eeb-4412-8dc5-a6a08469dfcb",
   "metadata": {},
   "outputs": [
    {
     "name": "stdout",
     "output_type": "stream",
     "text": [
      "8\n"
     ]
    }
   ],
   "source": [
    "def update(): \n",
    "    x = 8\n",
    "    print(x)\n",
    "update()"
   ]
  },
  {
   "cell_type": "code",
   "execution_count": 2,
   "id": "4cf2d7ae-e15c-40ad-8c68-20b5992cefbb",
   "metadata": {},
   "outputs": [
    {
     "ename": "TypeError",
     "evalue": "update() takes 0 positional arguments but 1 was given",
     "output_type": "error",
     "traceback": [
      "\u001b[1;31m---------------------------------------------------------------------------\u001b[0m",
      "\u001b[1;31mTypeError\u001b[0m                                 Traceback (most recent call last)",
      "Cell \u001b[1;32mIn[2], line 4\u001b[0m\n\u001b[0;32m      2\u001b[0m     x \u001b[38;5;241m=\u001b[39m \u001b[38;5;241m8\u001b[39m\n\u001b[0;32m      3\u001b[0m     \u001b[38;5;28mprint\u001b[39m(x)\n\u001b[1;32m----> 4\u001b[0m update(\u001b[38;5;241m8\u001b[39m)\n",
      "\u001b[1;31mTypeError\u001b[0m: update() takes 0 positional arguments but 1 was given"
     ]
    }
   ],
   "source": [
    "def update(): #update function take the value from the user\n",
    "    x = 8\n",
    "    print(x)\n",
    "update(8)"
   ]
  },
  {
   "cell_type": "code",
   "execution_count": 5,
   "id": "5552d22c-8cdd-47c2-8527-23e65596cc77",
   "metadata": {},
   "outputs": [
    {
     "data": {
      "text/plain": [
       "8"
      ]
     },
     "execution_count": 5,
     "metadata": {},
     "output_type": "execute_result"
    }
   ],
   "source": [
    "def update(x): #update function take the value from the user\n",
    "    x = 8\n",
    "    return x\n",
    "    \n",
    "update(10)"
   ]
  },
  {
   "cell_type": "code",
   "execution_count": 7,
   "id": "b9c7752f-8b00-4fd3-9804-2b89894e93fa",
   "metadata": {},
   "outputs": [
    {
     "name": "stdout",
     "output_type": "stream",
     "text": [
      "10\n"
     ]
    }
   ],
   "source": [
    "def update(x): #update function take the value from the user\n",
    "    x = 8\n",
    "    return x\n",
    "\n",
    "a = 10\n",
    "update(a)\n",
    "print(a)"
   ]
  },
  {
   "cell_type": "markdown",
   "id": "fee0d045-e3c2-4080-b0c4-3143c0e54ab1",
   "metadata": {},
   "source": [
    "# function argument"
   ]
  },
  {
   "cell_type": "code",
   "execution_count": 8,
   "id": "1577d496-0bd6-46fc-b668-5f51d890b8f5",
   "metadata": {},
   "outputs": [
    {
     "name": "stdout",
     "output_type": "stream",
     "text": [
      "11\n"
     ]
    }
   ],
   "source": [
    "def add(a,b): # a & b called formal argument\n",
    "    c = a+b\n",
    "    print(c)\n",
    "    \n",
    "add(5,6) #5 and 6 we called as actual argument"
   ]
  },
  {
   "cell_type": "code",
   "execution_count": 9,
   "id": "f81e18c3-6b12-456b-bf5b-ca601173e5fa",
   "metadata": {},
   "outputs": [
    {
     "ename": "TypeError",
     "evalue": "add() takes 2 positional arguments but 3 were given",
     "output_type": "error",
     "traceback": [
      "\u001b[1;31m---------------------------------------------------------------------------\u001b[0m",
      "\u001b[1;31mTypeError\u001b[0m                                 Traceback (most recent call last)",
      "Cell \u001b[1;32mIn[9], line 5\u001b[0m\n\u001b[0;32m      2\u001b[0m     c \u001b[38;5;241m=\u001b[39m a\u001b[38;5;241m+\u001b[39mb\n\u001b[0;32m      3\u001b[0m     \u001b[38;5;28mprint\u001b[39m(c)\n\u001b[1;32m----> 5\u001b[0m add(\u001b[38;5;241m5\u001b[39m,\u001b[38;5;241m6\u001b[39m,\u001b[38;5;241m7\u001b[39m)\n",
      "\u001b[1;31mTypeError\u001b[0m: add() takes 2 positional arguments but 3 were given"
     ]
    }
   ],
   "source": [
    "def add(a,b): # a & b called formal argument\n",
    "    c = a+b\n",
    "    print(c)\n",
    "    \n",
    "add(5,6,7) #5 and 6 we called as actual argument"
   ]
  },
  {
   "cell_type": "code",
   "execution_count": 10,
   "id": "5ad09806-f97c-43c6-b093-926181de9337",
   "metadata": {},
   "outputs": [
    {
     "ename": "TypeError",
     "evalue": "add() missing 1 required positional argument: 'b'",
     "output_type": "error",
     "traceback": [
      "\u001b[1;31m---------------------------------------------------------------------------\u001b[0m",
      "\u001b[1;31mTypeError\u001b[0m                                 Traceback (most recent call last)",
      "Cell \u001b[1;32mIn[10], line 5\u001b[0m\n\u001b[0;32m      2\u001b[0m     c \u001b[38;5;241m=\u001b[39m a\u001b[38;5;241m+\u001b[39mb\n\u001b[0;32m      3\u001b[0m     \u001b[38;5;28mprint\u001b[39m(c)\n\u001b[1;32m----> 5\u001b[0m add(\u001b[38;5;241m5\u001b[39m)\n",
      "\u001b[1;31mTypeError\u001b[0m: add() missing 1 required positional argument: 'b'"
     ]
    }
   ],
   "source": [
    "def add(a,b): # a & b called formal argument\n",
    "    c = a+b\n",
    "    print(c)\n",
    "    \n",
    "add(5) #5 and 6 we called as actual argument"
   ]
  },
  {
   "cell_type": "code",
   "execution_count": 11,
   "id": "498ab79c-0766-4bdb-9162-89fa8444c089",
   "metadata": {},
   "outputs": [
    {
     "name": "stdout",
     "output_type": "stream",
     "text": [
      "nit\n",
      "22\n"
     ]
    }
   ],
   "source": [
    "def person(name,age):\n",
    "    print(name)\n",
    "    print(age)\n",
    "    \n",
    "person('nit', 22)"
   ]
  },
  {
   "cell_type": "code",
   "execution_count": 12,
   "id": "e843a013-e2bb-4a23-a0d8-24e604dc0320",
   "metadata": {},
   "outputs": [
    {
     "ename": "TypeError",
     "evalue": "person() missing 1 required positional argument: 'age'",
     "output_type": "error",
     "traceback": [
      "\u001b[1;31m---------------------------------------------------------------------------\u001b[0m",
      "\u001b[1;31mTypeError\u001b[0m                                 Traceback (most recent call last)",
      "Cell \u001b[1;32mIn[12], line 5\u001b[0m\n\u001b[0;32m      2\u001b[0m     \u001b[38;5;28mprint\u001b[39m(name)\n\u001b[0;32m      3\u001b[0m     \u001b[38;5;28mprint\u001b[39m(age)\n\u001b[1;32m----> 5\u001b[0m person(\u001b[38;5;124m'\u001b[39m\u001b[38;5;124mnit\u001b[39m\u001b[38;5;124m'\u001b[39m)\n",
      "\u001b[1;31mTypeError\u001b[0m: person() missing 1 required positional argument: 'age'"
     ]
    }
   ],
   "source": [
    "def person(name,age):\n",
    "    print(name)\n",
    "    print(age)\n",
    "    \n",
    "person('nit')"
   ]
  },
  {
   "cell_type": "code",
   "execution_count": 19,
   "id": "bd808c49-fc54-4a71-ac26-928d4c4917f1",
   "metadata": {},
   "outputs": [
    {
     "name": "stdout",
     "output_type": "stream",
     "text": [
      "22\n",
      "nit\n"
     ]
    }
   ],
   "source": [
    "def person(name, age):\n",
    "    print(name)\n",
    "    print(age)\n",
    "    \n",
    "person(22, 'nit')"
   ]
  },
  {
   "cell_type": "code",
   "execution_count": 20,
   "id": "acc1da91-e602-4b2c-95fd-54c4bada4b9c",
   "metadata": {},
   "outputs": [
    {
     "name": "stdout",
     "output_type": "stream",
     "text": [
      "22\n"
     ]
    },
    {
     "ename": "TypeError",
     "evalue": "unsupported operand type(s) for -: 'str' and 'int'",
     "output_type": "error",
     "traceback": [
      "\u001b[1;31m---------------------------------------------------------------------------\u001b[0m",
      "\u001b[1;31mTypeError\u001b[0m                                 Traceback (most recent call last)",
      "Cell \u001b[1;32mIn[20], line 5\u001b[0m\n\u001b[0;32m      2\u001b[0m     \u001b[38;5;28mprint\u001b[39m(name)\n\u001b[0;32m      3\u001b[0m     \u001b[38;5;28mprint\u001b[39m(age\u001b[38;5;241m-\u001b[39m\u001b[38;5;241m5\u001b[39m)\n\u001b[1;32m----> 5\u001b[0m person(\u001b[38;5;241m22\u001b[39m, \u001b[38;5;124m'\u001b[39m\u001b[38;5;124mnit\u001b[39m\u001b[38;5;124m'\u001b[39m)\n",
      "Cell \u001b[1;32mIn[20], line 3\u001b[0m, in \u001b[0;36mperson\u001b[1;34m(name, age)\u001b[0m\n\u001b[0;32m      1\u001b[0m \u001b[38;5;28;01mdef\u001b[39;00m \u001b[38;5;21mperson\u001b[39m(name, age):\n\u001b[0;32m      2\u001b[0m     \u001b[38;5;28mprint\u001b[39m(name)\n\u001b[1;32m----> 3\u001b[0m     \u001b[38;5;28mprint\u001b[39m(age\u001b[38;5;241m-\u001b[39m\u001b[38;5;241m5\u001b[39m)\n",
      "\u001b[1;31mTypeError\u001b[0m: unsupported operand type(s) for -: 'str' and 'int'"
     ]
    }
   ],
   "source": [
    "def person(name, age):\n",
    "    print(name)\n",
    "    print(age-5)\n",
    "    \n",
    "person(22, 'nit')"
   ]
  },
  {
   "cell_type": "markdown",
   "id": "8d58f134-25ce-4d50-8931-22c4de3c1046",
   "metadata": {},
   "source": [
    "# keyword argument"
   ]
  },
  {
   "cell_type": "code",
   "execution_count": 26,
   "id": "812565d5-197c-441a-b7aa-b7fbc30e3a0d",
   "metadata": {},
   "outputs": [
    {
     "name": "stdout",
     "output_type": "stream",
     "text": [
      "nit\n",
      "17\n"
     ]
    }
   ],
   "source": [
    "def person(name, age):\n",
    "    print(name)\n",
    "    print(age-5)\n",
    "    \n",
    "person(age = 22, name = 'nit')"
   ]
  },
  {
   "cell_type": "code",
   "execution_count": 28,
   "id": "f94ef2f1-14dc-4478-98d7-69363e087b20",
   "metadata": {},
   "outputs": [
    {
     "ename": "TypeError",
     "evalue": "person() missing 1 required positional argument: 'mob'",
     "output_type": "error",
     "traceback": [
      "\u001b[1;31m---------------------------------------------------------------------------\u001b[0m",
      "\u001b[1;31mTypeError\u001b[0m                                 Traceback (most recent call last)",
      "Cell \u001b[1;32mIn[28], line 5\u001b[0m\n\u001b[0;32m      2\u001b[0m     \u001b[38;5;28mprint\u001b[39m(name)\n\u001b[0;32m      3\u001b[0m     \u001b[38;5;28mprint\u001b[39m(age\u001b[38;5;241m-\u001b[39m\u001b[38;5;241m5\u001b[39m)\n\u001b[1;32m----> 5\u001b[0m person(age \u001b[38;5;241m=\u001b[39m \u001b[38;5;241m22\u001b[39m, name \u001b[38;5;241m=\u001b[39m \u001b[38;5;124m'\u001b[39m\u001b[38;5;124mnit\u001b[39m\u001b[38;5;124m'\u001b[39m )\n",
      "\u001b[1;31mTypeError\u001b[0m: person() missing 1 required positional argument: 'mob'"
     ]
    }
   ],
   "source": [
    "def person(name, age, mob):\n",
    "    print(name)\n",
    "    print(age-5)\n",
    "    \n",
    "person(age = 22, name = 'nit' )"
   ]
  },
  {
   "cell_type": "code",
   "execution_count": 33,
   "id": "5d0d3bb6-23fa-41f0-b1d0-2dc368cec14a",
   "metadata": {},
   "outputs": [
    {
     "name": "stdout",
     "output_type": "stream",
     "text": [
      "nit\n",
      "17\n",
      "101\n"
     ]
    }
   ],
   "source": [
    "def person(name, age, mob):\n",
    "    print(name)\n",
    "    print(age-5)\n",
    "    print(mob)\n",
    "    \n",
    "person(age = 22, name = 'nit', mob = 101)"
   ]
  },
  {
   "cell_type": "code",
   "execution_count": 35,
   "id": "361d7c1e-8bb3-4969-a314-0cf584c6ca36",
   "metadata": {},
   "outputs": [
    {
     "name": "stdout",
     "output_type": "stream",
     "text": [
      "nit\n",
      "18\n"
     ]
    }
   ],
   "source": [
    "def person(name, age=18):\n",
    "    print(name)\n",
    "    print(age)\n",
    "    \n",
    "person('nit')"
   ]
  },
  {
   "cell_type": "code",
   "execution_count": 42,
   "id": "b4e67094-4631-444d-b8cf-2c33e0bd1809",
   "metadata": {},
   "outputs": [
    {
     "name": "stdout",
     "output_type": "stream",
     "text": [
      "nit\n",
      "40\n"
     ]
    }
   ],
   "source": [
    "def person(name, age=18):\n",
    "    print(name)\n",
    "    print(age)\n",
    "    \n",
    "person('nit', 40) "
   ]
  },
  {
   "cell_type": "code",
   "execution_count": null,
   "id": "05c38c75-c52b-47d6-a401-cd854233c3e1",
   "metadata": {},
   "outputs": [],
   "source": [
    "# variable length argument "
   ]
  },
  {
   "cell_type": "code",
   "execution_count": null,
   "id": "ea776897-446f-4525-aa43-405b2cfd77ef",
   "metadata": {},
   "outputs": [],
   "source": []
  },
  {
   "cell_type": "code",
   "execution_count": null,
   "id": "f608eda9-4f17-4b3b-8f78-e603b771b794",
   "metadata": {},
   "outputs": [],
   "source": []
  },
  {
   "cell_type": "code",
   "execution_count": null,
   "id": "03a0dd51-9c5d-4b20-93a7-5d49108e5419",
   "metadata": {},
   "outputs": [],
   "source": []
  }
 ],
 "metadata": {
  "kernelspec": {
   "display_name": "Python 3 (ipykernel)",
   "language": "python",
   "name": "python3"
  },
  "language_info": {
   "codemirror_mode": {
    "name": "ipython",
    "version": 3
   },
   "file_extension": ".py",
   "mimetype": "text/x-python",
   "name": "python",
   "nbconvert_exporter": "python",
   "pygments_lexer": "ipython3",
   "version": "3.11.7"
  }
 },
 "nbformat": 4,
 "nbformat_minor": 5
}
