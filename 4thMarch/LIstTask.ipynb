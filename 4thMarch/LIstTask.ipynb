{
 "cells": [
  {
   "cell_type": "code",
   "execution_count": 1,
   "id": "46cbcf55-7148-4f1b-9e7f-72dfeb51d89d",
   "metadata": {},
   "outputs": [
    {
     "data": {
      "text/plain": [
       "'abc def ghi '"
      ]
     },
     "execution_count": 1,
     "metadata": {},
     "output_type": "execute_result"
    }
   ],
   "source": [
    "txt = \" abc def ghi \" \n",
    " \n",
    "txt.lstrip() "
   ]
  },
  {
   "cell_type": "code",
   "execution_count": 3,
   "id": "05ed9e4c-9a44-41fb-b097-324f461ad604",
   "metadata": {},
   "outputs": [
    {
     "data": {
      "text/plain": [
       "'abc def ghi'"
      ]
     },
     "execution_count": 3,
     "metadata": {},
     "output_type": "execute_result"
    }
   ],
   "source": [
    "txt = \" abc def ghi \" \n",
    " \n",
    "txt.strip() "
   ]
  },
  {
   "cell_type": "markdown",
   "id": "5670540e-5b37-4204-ab96-8f34c8d77b78",
   "metadata": {},
   "source": [
    "# Using Escape Character "
   ]
  },
  {
   "cell_type": "code",
   "execution_count": 6,
   "id": "835f1d7b-8e37-40ef-8e39-80b5ff3e5f97",
   "metadata": {},
   "outputs": [
    {
     "ename": "SyntaxError",
     "evalue": "invalid syntax (942512744.py, line 2)",
     "output_type": "error",
     "traceback": [
      "\u001b[1;36m  Cell \u001b[1;32mIn[6], line 2\u001b[1;36m\u001b[0m\n\u001b[1;33m    mystr = \"My favourite TV Series is \"Game of Thrones\"\"\u001b[0m\n\u001b[1;37m                                        ^\u001b[0m\n\u001b[1;31mSyntaxError\u001b[0m\u001b[1;31m:\u001b[0m invalid syntax\n"
     ]
    }
   ],
   "source": [
    "#Using double quotes in the string is not allowed. \n",
    "mystr = \"My favourite TV Series is \"Game of Thrones\"\""
   ]
  },
  {
   "cell_type": "code",
   "execution_count": 8,
   "id": "fde44325-b8da-409e-89ae-f4ec708e54d0",
   "metadata": {},
   "outputs": [
    {
     "name": "stdout",
     "output_type": "stream",
     "text": [
      "My favourite series is \"Game of Thrones\"\n"
     ]
    }
   ],
   "source": [
    "#Using escape character to allow illegal characters \n",
    "mystr = \"My favourite series is \\\"Game of Thrones\\\"\" \n",
    "print(mystr) "
   ]
  },
  {
   "cell_type": "markdown",
   "id": "6aba8a30-d23b-4ae4-bb61-68a213550775",
   "metadata": {},
   "source": [
    "# List \n",
    " \n",
    "### 1) List is an ordered sequence of items. \n",
    " \n",
    "### 2) We can have different data types under a list. E.g we can have integer, float and string items in a same list."
   ]
  },
  {
   "cell_type": "markdown",
   "id": "4a0d4a11-faf5-4b3c-97ed-df10e9dc846a",
   "metadata": {},
   "source": [
    "# List Creation "
   ]
  },
  {
   "cell_type": "code",
   "execution_count": 13,
   "id": "b7cc6ebd-0ab3-4ced-8222-c210786d9b2d",
   "metadata": {},
   "outputs": [],
   "source": [
    "list1 = [] # Empty List "
   ]
  },
  {
   "cell_type": "code",
   "execution_count": 15,
   "id": "25fa0aba-390d-4d56-8b43-ad975a24b3ff",
   "metadata": {},
   "outputs": [
    {
     "name": "stdout",
     "output_type": "stream",
     "text": [
      "<class 'list'>\n"
     ]
    }
   ],
   "source": [
    "print(type(list1)) "
   ]
  },
  {
   "cell_type": "code",
   "execution_count": 19,
   "id": "f5303ac4-528a-43be-9c30-4874f990e839",
   "metadata": {},
   "outputs": [],
   "source": [
    "list2 = [10,30,60] # List of integers numbers"
   ]
  },
  {
   "cell_type": "code",
   "execution_count": 21,
   "id": "0520f892-7345-4b7d-bfa9-e5a16aad417d",
   "metadata": {},
   "outputs": [],
   "source": [
    "list3 = [10.77,30.66,60.89] # List of float numbers"
   ]
  },
  {
   "cell_type": "code",
   "execution_count": 23,
   "id": "2858f543-145a-4d01-a65a-62a125cc5661",
   "metadata": {},
   "outputs": [],
   "source": [
    "list4 = ['one','two' , \"three\"] # List of strings"
   ]
  },
  {
   "cell_type": "code",
   "execution_count": 25,
   "id": "a72c9e73-38ca-43d1-8d93-0061ada818d9",
   "metadata": {},
   "outputs": [],
   "source": [
    "list5 = ['Asif', 25 ,[50, 100],[150, 90]] # Nested Lists"
   ]
  },
  {
   "cell_type": "code",
   "execution_count": 27,
   "id": "819fe3d2-0a04-40e8-9ec8-662ac6df31bc",
   "metadata": {},
   "outputs": [],
   "source": [
    "list6 = [100, 'Asif', 17.765] # List of mixed data types"
   ]
  },
  {
   "cell_type": "code",
   "execution_count": 29,
   "id": "3b1ee95c-4d0c-44ab-bbde-6c067bee30a5",
   "metadata": {},
   "outputs": [],
   "source": [
    "list7 = ['Asif', 25 ,[50, 100],[150, 90] , {'John' , 'David'}] "
   ]
  },
  {
   "cell_type": "code",
   "execution_count": 31,
   "id": "b1950d6a-83bb-4275-be5a-000eb3acf336",
   "metadata": {},
   "outputs": [
    {
     "data": {
      "text/plain": [
       "3"
      ]
     },
     "execution_count": 31,
     "metadata": {},
     "output_type": "execute_result"
    }
   ],
   "source": [
    "len(list6) #Length of list "
   ]
  },
  {
   "cell_type": "markdown",
   "id": "da160167-c681-4e1d-8a06-c1549b9668ec",
   "metadata": {},
   "source": [
    "# List Indexing "
   ]
  },
  {
   "cell_type": "code",
   "execution_count": 34,
   "id": "e053a76a-406d-40ad-bd52-45a9fb1b8741",
   "metadata": {},
   "outputs": [
    {
     "data": {
      "text/plain": [
       "10"
      ]
     },
     "execution_count": 34,
     "metadata": {},
     "output_type": "execute_result"
    }
   ],
   "source": [
    "list2[0] # Retreive first element of the list "
   ]
  },
  {
   "cell_type": "code",
   "execution_count": 36,
   "id": "6d5c61b5-9cb8-43bb-8110-dc81da0c6dd0",
   "metadata": {},
   "outputs": [
    {
     "data": {
      "text/plain": [
       "'one'"
      ]
     },
     "execution_count": 36,
     "metadata": {},
     "output_type": "execute_result"
    }
   ],
   "source": [
    "list4[0] # Retreive first element of the list"
   ]
  },
  {
   "cell_type": "code",
   "execution_count": 40,
   "id": "6cb43f5a-3fc3-440c-912b-08c7b128a132",
   "metadata": {},
   "outputs": [
    {
     "data": {
      "text/plain": [
       "'o'"
      ]
     },
     "execution_count": 40,
     "metadata": {},
     "output_type": "execute_result"
    }
   ],
   "source": [
    "list4[0][0] # Nested indexing - Access the first character of the first list element"
   ]
  },
  {
   "cell_type": "code",
   "execution_count": 42,
   "id": "bc61ddef-3da1-4c3b-be7d-d73a56b6f4b2",
   "metadata": {},
   "outputs": [
    {
     "data": {
      "text/plain": [
       "'three'"
      ]
     },
     "execution_count": 42,
     "metadata": {},
     "output_type": "execute_result"
    }
   ],
   "source": [
    "list4[-1] # Last item of the list "
   ]
  },
  {
   "cell_type": "code",
   "execution_count": 44,
   "id": "3c4fbcb4-728f-4859-bc56-5ed3aa32b19f",
   "metadata": {},
   "outputs": [
    {
     "data": {
      "text/plain": [
       "[150, 90]"
      ]
     },
     "execution_count": 44,
     "metadata": {},
     "output_type": "execute_result"
    }
   ],
   "source": [
    "list5[-1] # Last item of the list "
   ]
  },
  {
   "cell_type": "markdown",
   "id": "8174a9dc-9ba6-4ffb-b1a8-c06d3f91bac0",
   "metadata": {},
   "source": [
    "# List Slicing"
   ]
  },
  {
   "cell_type": "code",
   "execution_count": 47,
   "id": "e7ff5ffb-fa20-4a8f-ba0d-35f7b06ee414",
   "metadata": {},
   "outputs": [],
   "source": [
    "mylist = ['one' , 'two' , 'three' , 'four' , 'five' , 'six' , 'seven' , 'eight'] \n"
   ]
  },
  {
   "cell_type": "code",
   "execution_count": 49,
   "id": "276ea388-c4b4-482b-b3ef-3404e59425b8",
   "metadata": {},
   "outputs": [
    {
     "data": {
      "text/plain": [
       "['one', 'two', 'three']"
      ]
     },
     "execution_count": 49,
     "metadata": {},
     "output_type": "execute_result"
    }
   ],
   "source": [
    "mylist[0:3] # Return all items from 0th to 3rd index location excluding the item \n"
   ]
  },
  {
   "cell_type": "code",
   "execution_count": 51,
   "id": "2fea7343-cde7-4e47-82a9-473b458e9841",
   "metadata": {},
   "outputs": [
    {
     "data": {
      "text/plain": [
       "['three', 'four', 'five']"
      ]
     },
     "execution_count": 51,
     "metadata": {},
     "output_type": "execute_result"
    }
   ],
   "source": [
    "mylist[2:5] # List all items from 2nd to 5th index location excluding the item a \n"
   ]
  },
  {
   "cell_type": "code",
   "execution_count": 53,
   "id": "b565b614-39c7-44dc-a48c-eb8413f9baf9",
   "metadata": {},
   "outputs": [
    {
     "data": {
      "text/plain": [
       "['one', 'two', 'three']"
      ]
     },
     "execution_count": 53,
     "metadata": {},
     "output_type": "execute_result"
    }
   ],
   "source": [
    "mylist[:3] # Return first three items \n"
   ]
  },
  {
   "cell_type": "code",
   "execution_count": 55,
   "id": "76ef5787-22d0-4f95-a1a1-11a3661c7895",
   "metadata": {},
   "outputs": [
    {
     "data": {
      "text/plain": [
       "['one', 'two']"
      ]
     },
     "execution_count": 55,
     "metadata": {},
     "output_type": "execute_result"
    }
   ],
   "source": [
    "mylist[:2] # Return first two items \n"
   ]
  },
  {
   "cell_type": "code",
   "execution_count": 57,
   "id": "1577b5b1-f674-470c-8bea-3a7e4e6efafe",
   "metadata": {},
   "outputs": [
    {
     "data": {
      "text/plain": [
       "['six', 'seven', 'eight']"
      ]
     },
     "execution_count": 57,
     "metadata": {},
     "output_type": "execute_result"
    }
   ],
   "source": [
    "mylist[-3:] # Return last three items \n"
   ]
  },
  {
   "cell_type": "code",
   "execution_count": 59,
   "id": "97adbdce-574b-45ea-ac9a-b6f7b2b70505",
   "metadata": {},
   "outputs": [
    {
     "data": {
      "text/plain": [
       "['seven', 'eight']"
      ]
     },
     "execution_count": 59,
     "metadata": {},
     "output_type": "execute_result"
    }
   ],
   "source": [
    "mylist[-2:] # Return last two items \n"
   ]
  },
  {
   "cell_type": "code",
   "execution_count": 61,
   "id": "362bb06e-00fa-45f4-9880-b51b4600d8c1",
   "metadata": {},
   "outputs": [
    {
     "data": {
      "text/plain": [
       "'eight'"
      ]
     },
     "execution_count": 61,
     "metadata": {},
     "output_type": "execute_result"
    }
   ],
   "source": [
    "mylist[-1] # Return last item of the list \n"
   ]
  },
  {
   "cell_type": "code",
   "execution_count": 63,
   "id": "dc18ee7a-6382-44fb-b990-70a7aaaf89db",
   "metadata": {},
   "outputs": [
    {
     "data": {
      "text/plain": [
       "['one', 'two', 'three', 'four', 'five', 'six', 'seven', 'eight']"
      ]
     },
     "execution_count": 63,
     "metadata": {},
     "output_type": "execute_result"
    }
   ],
   "source": [
    "mylist[:] # Return whole list \n"
   ]
  },
  {
   "cell_type": "markdown",
   "id": "81e7c588-a1cd-452a-bce6-23ff570fe21c",
   "metadata": {},
   "source": [
    "# Add , Remove & Change Items"
   ]
  },
  {
   "cell_type": "code",
   "execution_count": 66,
   "id": "75f0a006-2c97-4ae0-9666-a74c0d8e198f",
   "metadata": {},
   "outputs": [
    {
     "data": {
      "text/plain": [
       "['one', 'two', 'three', 'four', 'five', 'six', 'seven', 'eight']"
      ]
     },
     "execution_count": 66,
     "metadata": {},
     "output_type": "execute_result"
    }
   ],
   "source": [
    "mylist"
   ]
  },
  {
   "cell_type": "code",
   "execution_count": 68,
   "id": "6f523289-cd61-4bc4-9568-5dc85918231b",
   "metadata": {},
   "outputs": [
    {
     "data": {
      "text/plain": [
       "['one', 'two', 'three', 'four', 'five', 'six', 'seven', 'eight', 'nine']"
      ]
     },
     "execution_count": 68,
     "metadata": {},
     "output_type": "execute_result"
    }
   ],
   "source": [
    "mylist.append('nine') # Add an item to the end of the list \n",
    "mylist"
   ]
  },
  {
   "cell_type": "code",
   "execution_count": 70,
   "id": "14eb4cfe-52f0-4b64-bf13-4a9051971baf",
   "metadata": {},
   "outputs": [
    {
     "data": {
      "text/plain": [
       "['one', 'two', 'three', 'four', 'five', 'six', 'seven', 'eight', 'nine', 'ten']"
      ]
     },
     "execution_count": 70,
     "metadata": {},
     "output_type": "execute_result"
    }
   ],
   "source": [
    "mylist.insert(9,'ten') # Add item at index location 9 \n",
    "mylist"
   ]
  },
  {
   "cell_type": "code",
   "execution_count": 72,
   "id": "22c7ff73-f1d7-47d1-934b-390d0af03240",
   "metadata": {},
   "outputs": [
    {
     "data": {
      "text/plain": [
       "['one',\n",
       " 'ONE',\n",
       " 'two',\n",
       " 'three',\n",
       " 'four',\n",
       " 'five',\n",
       " 'six',\n",
       " 'seven',\n",
       " 'eight',\n",
       " 'nine',\n",
       " 'ten']"
      ]
     },
     "execution_count": 72,
     "metadata": {},
     "output_type": "execute_result"
    }
   ],
   "source": [
    "mylist.insert(1,'ONE') # Add item at index location 1 \n",
    "mylist"
   ]
  },
  {
   "cell_type": "code",
   "execution_count": 74,
   "id": "200f5b59-7acd-461e-8f16-e5cf319d0d48",
   "metadata": {},
   "outputs": [
    {
     "data": {
      "text/plain": [
       "['one', 'two', 'three', 'four', 'five', 'six', 'seven', 'eight', 'nine', 'ten']"
      ]
     },
     "execution_count": 74,
     "metadata": {},
     "output_type": "execute_result"
    }
   ],
   "source": [
    "mylist.remove('ONE') # Remove item \"ONE\" \n",
    "mylist"
   ]
  },
  {
   "cell_type": "code",
   "execution_count": 76,
   "id": "a2d3de72-0e28-4476-80b3-99d5ddb7e619",
   "metadata": {},
   "outputs": [
    {
     "data": {
      "text/plain": [
       "['one', 'two', 'three', 'four', 'five', 'six', 'seven', 'eight', 'nine']"
      ]
     },
     "execution_count": 76,
     "metadata": {},
     "output_type": "execute_result"
    }
   ],
   "source": [
    "mylist.pop() # Remove last item of the list \n",
    "mylist"
   ]
  },
  {
   "cell_type": "code",
   "execution_count": 78,
   "id": "51bde258-6998-4827-bb77-2c404ab965fd",
   "metadata": {},
   "outputs": [
    {
     "data": {
      "text/plain": [
       "['one', 'two', 'three', 'four', 'five', 'six', 'seven', 'eight']"
      ]
     },
     "execution_count": 78,
     "metadata": {},
     "output_type": "execute_result"
    }
   ],
   "source": [
    "mylist.pop(8) # Remove item at index location 8 \n",
    "mylist"
   ]
  },
  {
   "cell_type": "code",
   "execution_count": 80,
   "id": "27a9fd3c-aa6a-4cc2-b001-7a43c78c864f",
   "metadata": {},
   "outputs": [
    {
     "data": {
      "text/plain": [
       "['one', 'two', 'three', 'four', 'five', 'six', 'seven']"
      ]
     },
     "execution_count": 80,
     "metadata": {},
     "output_type": "execute_result"
    }
   ],
   "source": [
    "del mylist[7] # Remove item at index location 7 \n",
    "mylist"
   ]
  },
  {
   "cell_type": "code",
   "execution_count": 82,
   "id": "9168e843-fd5a-4e44-9dee-2a2f5f720210",
   "metadata": {},
   "outputs": [
    {
     "data": {
      "text/plain": [
       "[1, 2, 3, 'four', 'five', 'six', 'seven']"
      ]
     },
     "execution_count": 82,
     "metadata": {},
     "output_type": "execute_result"
    }
   ],
   "source": [
    "# Change value of the strin \n",
    "mylist[0] = 1 \n",
    "mylist[1] = 2 \n",
    "mylist[2] = 3 \n",
    "mylist  "
   ]
  },
  {
   "cell_type": "code",
   "execution_count": 84,
   "id": "1ec048c4-f9f4-47f8-8a50-b80d812b8537",
   "metadata": {},
   "outputs": [
    {
     "data": {
      "text/plain": [
       "[]"
      ]
     },
     "execution_count": 84,
     "metadata": {},
     "output_type": "execute_result"
    }
   ],
   "source": [
    "mylist.clear() # Empty List / Delete all items in the list \n",
    "mylist \n"
   ]
  },
  {
   "cell_type": "code",
   "execution_count": 86,
   "id": "6a0697ec-adfc-45fe-a747-97aa1a06d5ba",
   "metadata": {},
   "outputs": [
    {
     "ename": "NameError",
     "evalue": "name 'mylist' is not defined",
     "output_type": "error",
     "traceback": [
      "\u001b[1;31m---------------------------------------------------------------------------\u001b[0m",
      "\u001b[1;31mNameError\u001b[0m                                 Traceback (most recent call last)",
      "Cell \u001b[1;32mIn[86], line 2\u001b[0m\n\u001b[0;32m      1\u001b[0m \u001b[38;5;28;01mdel\u001b[39;00m mylist \u001b[38;5;66;03m# Delete the whole list \u001b[39;00m\n\u001b[1;32m----> 2\u001b[0m \u001b[43mmylist\u001b[49m \n",
      "\u001b[1;31mNameError\u001b[0m: name 'mylist' is not defined"
     ]
    }
   ],
   "source": [
    "del mylist # Delete the whole list \n",
    "mylist "
   ]
  },
  {
   "cell_type": "markdown",
   "id": "982b27f9-1f43-4dd6-8bf9-78fbed191ec8",
   "metadata": {},
   "source": [
    "# Copy List"
   ]
  },
  {
   "cell_type": "code",
   "execution_count": 91,
   "id": "acb51625-1f43-4d7a-8e03-af7397fd7c9c",
   "metadata": {},
   "outputs": [],
   "source": [
    "mylist = ['one', 'two', 'three', 'four', 'five', 'six', 'seven', 'eight', 'nine'] \n"
   ]
  },
  {
   "cell_type": "code",
   "execution_count": 93,
   "id": "2114eecd-b5f2-4d87-96b5-198ac8368ec8",
   "metadata": {},
   "outputs": [],
   "source": [
    "mylist1 = mylist # Create a new reference \"mylist1\" \n"
   ]
  },
  {
   "cell_type": "code",
   "execution_count": 95,
   "id": "6cb9a28b-9f20-4cc0-80f5-f9b42c7062de",
   "metadata": {},
   "outputs": [
    {
     "data": {
      "text/plain": [
       "(2383703782848, 2383703782848)"
      ]
     },
     "execution_count": 95,
     "metadata": {},
     "output_type": "execute_result"
    }
   ],
   "source": [
    "id(mylist) , id(mylist1) # The address of both mylist & mylist1 will be the same \n"
   ]
  },
  {
   "cell_type": "code",
   "execution_count": 97,
   "id": "5ba265ce-692c-46b4-b09b-75ff2706f90d",
   "metadata": {},
   "outputs": [],
   "source": [
    "mylist2 = mylist.copy() # Create a copy of the list \n"
   ]
  },
  {
   "cell_type": "code",
   "execution_count": 99,
   "id": "cdd79ad5-6ba8-4f0e-978e-070cf6094401",
   "metadata": {},
   "outputs": [
    {
     "data": {
      "text/plain": [
       "2383703863808"
      ]
     },
     "execution_count": 99,
     "metadata": {},
     "output_type": "execute_result"
    }
   ],
   "source": [
    "id(mylist2) # The address of mylist2 will be different from mylist because mylist"
   ]
  },
  {
   "cell_type": "code",
   "execution_count": 101,
   "id": "870c0935-086b-4343-8e43-0036587e6480",
   "metadata": {},
   "outputs": [],
   "source": [
    "mylist[0] = 1 \n"
   ]
  },
  {
   "cell_type": "code",
   "execution_count": 103,
   "id": "2880f6ca-11fb-4b28-b42c-ba1277772a36",
   "metadata": {},
   "outputs": [
    {
     "data": {
      "text/plain": [
       "[1, 'two', 'three', 'four', 'five', 'six', 'seven', 'eight', 'nine']"
      ]
     },
     "execution_count": 103,
     "metadata": {},
     "output_type": "execute_result"
    }
   ],
   "source": [
    "mylist"
   ]
  },
  {
   "cell_type": "code",
   "execution_count": 105,
   "id": "67bf888a-4afc-4b03-a1ab-1ca0ea27a79a",
   "metadata": {},
   "outputs": [
    {
     "data": {
      "text/plain": [
       "[1, 'two', 'three', 'four', 'five', 'six', 'seven', 'eight', 'nine']"
      ]
     },
     "execution_count": 105,
     "metadata": {},
     "output_type": "execute_result"
    }
   ],
   "source": [
    "mylist1 # mylist1 will be also impacted as it is pointing to the same list \n"
   ]
  },
  {
   "cell_type": "code",
   "execution_count": 107,
   "id": "ddf8aefb-83f4-4a28-91f3-b8856a889c0f",
   "metadata": {},
   "outputs": [
    {
     "data": {
      "text/plain": [
       "['one', 'two', 'three', 'four', 'five', 'six', 'seven', 'eight', 'nine']"
      ]
     },
     "execution_count": 107,
     "metadata": {},
     "output_type": "execute_result"
    }
   ],
   "source": [
    "mylist2 # Copy of list won't be impacted due to changes made on the original lis \n"
   ]
  },
  {
   "cell_type": "markdown",
   "id": "bd4cd66e-cad6-41a0-aeed-4ca3344071ed",
   "metadata": {},
   "source": [
    "# Join List"
   ]
  },
  {
   "cell_type": "code",
   "execution_count": 110,
   "id": "a0f6eea0-ebec-4481-8f74-678758104a67",
   "metadata": {},
   "outputs": [],
   "source": [
    "list1 = ['one', 'two', 'three', 'four'] \n",
    "list2 = ['five', 'six', 'seven', 'eight']"
   ]
  },
  {
   "cell_type": "code",
   "execution_count": 112,
   "id": "aa9d2461-a5b5-46d0-afbb-23cfa0aee236",
   "metadata": {},
   "outputs": [
    {
     "data": {
      "text/plain": [
       "['one', 'two', 'three', 'four', 'five', 'six', 'seven', 'eight']"
      ]
     },
     "execution_count": 112,
     "metadata": {},
     "output_type": "execute_result"
    }
   ],
   "source": [
    "list3 = list1 + list2 # Join two lists by '+' operator \n",
    "list3 \n"
   ]
  },
  {
   "cell_type": "code",
   "execution_count": 114,
   "id": "c5ec0cfe-2f0f-4cd1-bd83-f6a29e0f8102",
   "metadata": {},
   "outputs": [
    {
     "data": {
      "text/plain": [
       "['one', 'two', 'three', 'four', 'five', 'six', 'seven', 'eight']"
      ]
     },
     "execution_count": 114,
     "metadata": {},
     "output_type": "execute_result"
    }
   ],
   "source": [
    "list1.extend(list2) #Append list2 with list1 \n",
    "list1 "
   ]
  },
  {
   "cell_type": "markdown",
   "id": "50ae5aeb-a052-4b6b-91c0-b6d84b215457",
   "metadata": {},
   "source": [
    "# List Membership"
   ]
  },
  {
   "cell_type": "code",
   "execution_count": 117,
   "id": "131d3baa-e8aa-41b1-bbd1-20e3d034f0b1",
   "metadata": {},
   "outputs": [
    {
     "data": {
      "text/plain": [
       "['one', 'two', 'three', 'four', 'five', 'six', 'seven', 'eight']"
      ]
     },
     "execution_count": 117,
     "metadata": {},
     "output_type": "execute_result"
    }
   ],
   "source": [
    "list1"
   ]
  },
  {
   "cell_type": "code",
   "execution_count": 119,
   "id": "aae2f7dd-cccd-4fcc-96d7-a17ed99ce93e",
   "metadata": {},
   "outputs": [
    {
     "data": {
      "text/plain": [
       "True"
      ]
     },
     "execution_count": 119,
     "metadata": {},
     "output_type": "execute_result"
    }
   ],
   "source": [
    "'one' in list1 # Check if 'one' exist in the list \n"
   ]
  },
  {
   "cell_type": "code",
   "execution_count": 121,
   "id": "92d15cdb-46f6-4b11-9049-bba5565715ff",
   "metadata": {},
   "outputs": [
    {
     "data": {
      "text/plain": [
       "False"
      ]
     },
     "execution_count": 121,
     "metadata": {},
     "output_type": "execute_result"
    }
   ],
   "source": [
    "'ten' in list1 # Check if 'ten' exist in the list \n"
   ]
  },
  {
   "cell_type": "code",
   "execution_count": 125,
   "id": "fac74220-b311-4d23-9dca-af6b7f61f281",
   "metadata": {},
   "outputs": [
    {
     "name": "stdout",
     "output_type": "stream",
     "text": [
      "Three is present in the list\n"
     ]
    }
   ],
   "source": [
    "if 'three' in list1: # Check if 'three' exist in the list \n",
    "    print('Three is present in the list') \n",
    "else: \n",
    "    print('Three is not present in the list')"
   ]
  },
  {
   "cell_type": "code",
   "execution_count": 127,
   "id": "85ab4f7e-2cf8-4345-81b8-44949d0459e4",
   "metadata": {},
   "outputs": [
    {
     "name": "stdout",
     "output_type": "stream",
     "text": [
      "eleven is not present in the list\n"
     ]
    }
   ],
   "source": [
    "if 'eleven' in list1:\n",
    "    print('eleven is present in the list') \n",
    "else: \n",
    "    print('eleven is not present in the list') # Check if 'eleven' exist in the list \n"
   ]
  },
  {
   "cell_type": "markdown",
   "id": "2d1a14ed-1c03-4f7b-81de-b8d438cabfd5",
   "metadata": {},
   "source": [
    "# Reverse and sort list"
   ]
  },
  {
   "cell_type": "code",
   "execution_count": 130,
   "id": "1a51745b-2176-4c71-81f4-17cc0be7359a",
   "metadata": {},
   "outputs": [
    {
     "data": {
      "text/plain": [
       "['one', 'two', 'three', 'four', 'five', 'six', 'seven', 'eight']"
      ]
     },
     "execution_count": 130,
     "metadata": {},
     "output_type": "execute_result"
    }
   ],
   "source": [
    "list1"
   ]
  },
  {
   "cell_type": "code",
   "execution_count": 132,
   "id": "66d4eb1a-38dc-484c-9f71-2e533e774815",
   "metadata": {},
   "outputs": [
    {
     "data": {
      "text/plain": [
       "['eight', 'seven', 'six', 'five', 'four', 'three', 'two', 'one']"
      ]
     },
     "execution_count": 132,
     "metadata": {},
     "output_type": "execute_result"
    }
   ],
   "source": [
    "list1.reverse() # Reverse the list \n",
    "list1 "
   ]
  },
  {
   "cell_type": "code",
   "execution_count": 134,
   "id": "3f08d605-df6d-42ad-bcbc-03668fa18cb7",
   "metadata": {},
   "outputs": [
    {
     "data": {
      "text/plain": [
       "['one', 'two', 'three', 'four', 'five', 'six', 'seven', 'eight']"
      ]
     },
     "execution_count": 134,
     "metadata": {},
     "output_type": "execute_result"
    }
   ],
   "source": [
    "list1 = list1[::-1] # Reverse the list \n",
    "list1 \n"
   ]
  },
  {
   "cell_type": "code",
   "execution_count": 136,
   "id": "d241be88-6804-4247-a136-8b91b550f6c0",
   "metadata": {},
   "outputs": [
    {
     "data": {
      "text/plain": [
       "[2, 5, 9, 12, 34, 88, 99]"
      ]
     },
     "execution_count": 136,
     "metadata": {},
     "output_type": "execute_result"
    }
   ],
   "source": [
    "mylist3 = [9,5,2,99,12,88,34] \n",
    "mylist3.sort() # Sort list in ascending order \n",
    "mylist3"
   ]
  },
  {
   "cell_type": "code",
   "execution_count": 138,
   "id": "f1ffd11b-ecec-4252-90f9-12eab09de9fd",
   "metadata": {},
   "outputs": [
    {
     "data": {
      "text/plain": [
       "[99, 88, 34, 12, 9, 5, 2]"
      ]
     },
     "execution_count": 138,
     "metadata": {},
     "output_type": "execute_result"
    }
   ],
   "source": [
    "mylist3 = [9,5,2,99,12,88,34] \n",
    "mylist3.sort(reverse=True) # Sort list in descending order \n",
    "mylist3"
   ]
  },
  {
   "cell_type": "code",
   "execution_count": 140,
   "id": "55ad4ed8-2f0f-41a6-8d70-d656566c5d67",
   "metadata": {},
   "outputs": [
    {
     "data": {
      "text/plain": [
       "[11, 21, 33, 65, 88, 98]"
      ]
     },
     "execution_count": 140,
     "metadata": {},
     "output_type": "execute_result"
    }
   ],
   "source": [
    "mylist4 = [88,65,33,21,11,98] \n",
    "sorted(mylist4) # Returns a new sorted list and doesn't change original list"
   ]
  },
  {
   "cell_type": "code",
   "execution_count": 142,
   "id": "7f49c6ea-56c5-4bd8-beb9-e3406f75e993",
   "metadata": {},
   "outputs": [
    {
     "data": {
      "text/plain": [
       "[88, 65, 33, 21, 11, 98]"
      ]
     },
     "execution_count": 142,
     "metadata": {},
     "output_type": "execute_result"
    }
   ],
   "source": [
    "mylist4"
   ]
  },
  {
   "cell_type": "markdown",
   "id": "d4dd0b87-d6a1-4615-97e6-29258f55a311",
   "metadata": {},
   "source": [
    "# Loop through list"
   ]
  },
  {
   "cell_type": "code",
   "execution_count": 145,
   "id": "1e54f010-8c8e-4145-ba6c-bb14dc6aaeed",
   "metadata": {},
   "outputs": [
    {
     "data": {
      "text/plain": [
       "['one', 'two', 'three', 'four', 'five', 'six', 'seven', 'eight']"
      ]
     },
     "execution_count": 145,
     "metadata": {},
     "output_type": "execute_result"
    }
   ],
   "source": [
    "list1"
   ]
  },
  {
   "cell_type": "code",
   "execution_count": 149,
   "id": "3b4461bd-acd0-43c7-9770-7267e61bf76d",
   "metadata": {},
   "outputs": [
    {
     "name": "stdout",
     "output_type": "stream",
     "text": [
      "one\n",
      "two\n",
      "three\n",
      "four\n",
      "five\n",
      "six\n",
      "seven\n",
      "eight\n"
     ]
    }
   ],
   "source": [
    "for i in list1: \n",
    "    print(i) "
   ]
  },
  {
   "cell_type": "code",
   "execution_count": 151,
   "id": "788d0b1e-2930-4c73-97af-670889dcd7d5",
   "metadata": {},
   "outputs": [
    {
     "name": "stdout",
     "output_type": "stream",
     "text": [
      "(0, 'one')\n",
      "(1, 'two')\n",
      "(2, 'three')\n",
      "(3, 'four')\n",
      "(4, 'five')\n",
      "(5, 'six')\n",
      "(6, 'seven')\n",
      "(7, 'eight')\n"
     ]
    }
   ],
   "source": [
    "for i in enumerate(list1): \n",
    "    print(i)"
   ]
  },
  {
   "cell_type": "markdown",
   "id": "6a095cc6-ed0c-4769-96cc-04adb9ef4fbc",
   "metadata": {},
   "source": [
    "# Count"
   ]
  },
  {
   "cell_type": "code",
   "execution_count": 154,
   "id": "952a4a20-93cd-46dc-978a-46b6639c806a",
   "metadata": {},
   "outputs": [],
   "source": [
    "list10 =['one', 'two', 'three', 'four', 'one', 'one', 'two', 'three'] \n"
   ]
  },
  {
   "cell_type": "code",
   "execution_count": 156,
   "id": "c32ea9e6-23fa-4395-b134-0178411188f7",
   "metadata": {},
   "outputs": [
    {
     "data": {
      "text/plain": [
       "3"
      ]
     },
     "execution_count": 156,
     "metadata": {},
     "output_type": "execute_result"
    }
   ],
   "source": [
    "list10.count('one') # Number of times item \"one\" occurred in the list. \n"
   ]
  },
  {
   "cell_type": "code",
   "execution_count": 158,
   "id": "ad2ec9e4-874a-452b-b4fb-4bbc6986ebde",
   "metadata": {},
   "outputs": [
    {
     "data": {
      "text/plain": [
       "2"
      ]
     },
     "execution_count": 158,
     "metadata": {},
     "output_type": "execute_result"
    }
   ],
   "source": [
    "list10.count('two') # Occurence of item 'two' in the list \n"
   ]
  },
  {
   "cell_type": "code",
   "execution_count": 160,
   "id": "1523cfb5-af8b-40c0-a6d4-99357345067a",
   "metadata": {},
   "outputs": [
    {
     "data": {
      "text/plain": [
       "1"
      ]
     },
     "execution_count": 160,
     "metadata": {},
     "output_type": "execute_result"
    }
   ],
   "source": [
    "list10.count('four') #Occurence of item 'four' in the list \n"
   ]
  },
  {
   "cell_type": "markdown",
   "id": "f60f3032-42a5-452b-b309-e8fc9c13b950",
   "metadata": {},
   "source": [
    "# All / Any \n",
    " \n",
    "## The all() method returns: \n",
    " \n",
    "### True - If all elements in a list are true \n",
    "### False - If any element in a list is false \n",
    " \n",
    "### The any() function returns True if any element in the list is True. If not, any() returns False."
   ]
  },
  {
   "cell_type": "code",
   "execution_count": 163,
   "id": "bacc791b-067f-40f6-b5b2-0386ada5349e",
   "metadata": {},
   "outputs": [],
   "source": [
    "L1 = [1,2,3,4,0] \n"
   ]
  },
  {
   "cell_type": "code",
   "execution_count": 165,
   "id": "02623506-6d04-45b1-b745-d04f61bc7c8f",
   "metadata": {},
   "outputs": [
    {
     "data": {
      "text/plain": [
       "False"
      ]
     },
     "execution_count": 165,
     "metadata": {},
     "output_type": "execute_result"
    }
   ],
   "source": [
    "all(L1) # Will Return false as one value is false (Value 0) \n"
   ]
  },
  {
   "cell_type": "code",
   "execution_count": 167,
   "id": "ab5fd439-7671-4ba3-81e6-3a4924a483da",
   "metadata": {},
   "outputs": [
    {
     "data": {
      "text/plain": [
       "True"
      ]
     },
     "execution_count": 167,
     "metadata": {},
     "output_type": "execute_result"
    }
   ],
   "source": [
    "any(L1) # Will Return True as we have items in the list with True value \n"
   ]
  },
  {
   "cell_type": "code",
   "execution_count": 169,
   "id": "e6a41f74-0d85-4471-9813-aa099b02423c",
   "metadata": {},
   "outputs": [],
   "source": [
    "L2 = [1,2,3,4,True,False] \n"
   ]
  },
  {
   "cell_type": "code",
   "execution_count": 171,
   "id": "14ed66f9-6748-4468-a6b5-96afb69eec59",
   "metadata": {},
   "outputs": [
    {
     "data": {
      "text/plain": [
       "False"
      ]
     },
     "execution_count": 171,
     "metadata": {},
     "output_type": "execute_result"
    }
   ],
   "source": [
    "all(L2) # Returns false as one value is false \n"
   ]
  },
  {
   "cell_type": "code",
   "execution_count": 173,
   "id": "6f8bb1a2-c20e-4665-ac1c-9c1d32aa128d",
   "metadata": {},
   "outputs": [
    {
     "data": {
      "text/plain": [
       "True"
      ]
     },
     "execution_count": 173,
     "metadata": {},
     "output_type": "execute_result"
    }
   ],
   "source": [
    "any(L2) # Will Return True as we have items in the list with True value \n"
   ]
  },
  {
   "cell_type": "code",
   "execution_count": 175,
   "id": "3b8da053-03d2-4f0c-8313-a226f527c972",
   "metadata": {},
   "outputs": [],
   "source": [
    "L3 = [1,2,3,True] \n"
   ]
  },
  {
   "cell_type": "code",
   "execution_count": 177,
   "id": "6921b3c0-307d-472c-b7b4-a47402f5e323",
   "metadata": {},
   "outputs": [
    {
     "data": {
      "text/plain": [
       "True"
      ]
     },
     "execution_count": 177,
     "metadata": {},
     "output_type": "execute_result"
    }
   ],
   "source": [
    "all(L3) # Will return True as all items in the list are True "
   ]
  },
  {
   "cell_type": "code",
   "execution_count": null,
   "id": "2a3ac330-8e87-4f00-b9da-2505935f08ef",
   "metadata": {},
   "outputs": [],
   "source": []
  }
 ],
 "metadata": {
  "kernelspec": {
   "display_name": "Python 3 (ipykernel)",
   "language": "python",
   "name": "python3"
  },
  "language_info": {
   "codemirror_mode": {
    "name": "ipython",
    "version": 3
   },
   "file_extension": ".py",
   "mimetype": "text/x-python",
   "name": "python",
   "nbconvert_exporter": "python",
   "pygments_lexer": "ipython3",
   "version": "3.12.4"
  }
 },
 "nbformat": 4,
 "nbformat_minor": 5
}
