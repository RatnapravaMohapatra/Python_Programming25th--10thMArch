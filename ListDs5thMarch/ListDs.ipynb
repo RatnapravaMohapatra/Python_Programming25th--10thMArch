{
 "cells": [
  {
   "cell_type": "code",
   "execution_count": 119,
   "id": "f3b12a34-7d5d-41cc-b650-619701ef9872",
   "metadata": {},
   "outputs": [],
   "source": [
    "l = [10, 20, 30, 35, 40, 3, 10, 15, 20, 30, 40, 2.3, 1]\n",
    "l1 = [40, 30, 20, 15, 10, 2.3, 1]\n",
    "l2 = [10, 15, 20, 30, 40, 2.3, 1]"
   ]
  },
  {
   "cell_type": "code",
   "execution_count": 121,
   "id": "58710506-43e4-4557-a06f-6d63a0bc7a8f",
   "metadata": {},
   "outputs": [
    {
     "name": "stdout",
     "output_type": "stream",
     "text": [
      "[10, 20, 30, 35, 40, 3, 10, 15, 20, 30, 40, 2.3, 1]\n",
      "[40, 30, 20, 15, 10, 2.3, 1]\n",
      "[10, 15, 20, 30, 40, 2.3, 1]\n"
     ]
    }
   ],
   "source": [
    "print(l)\n",
    "print(l1)\n",
    "print(l2)"
   ]
  },
  {
   "cell_type": "markdown",
   "id": "1bbc28d4-be38-4580-98da-bbaa45f0e8ef",
   "metadata": {},
   "source": [
    "# String Slicing(Data Type)"
   ]
  },
  {
   "cell_type": "code",
   "execution_count": 124,
   "id": "d99ad777-0e78-48d3-9116-0488c85d97a7",
   "metadata": {},
   "outputs": [
    {
     "data": {
      "text/plain": [
       "'nit'"
      ]
     },
     "execution_count": 124,
     "metadata": {},
     "output_type": "execute_result"
    }
   ],
   "source": [
    "s1 = 'nit'\n",
    "s1"
   ]
  },
  {
   "cell_type": "code",
   "execution_count": 126,
   "id": "c5c0bc67-da7f-4550-b25f-4a3dc171c1f0",
   "metadata": {},
   "outputs": [
    {
     "data": {
      "text/plain": [
       "'n'"
      ]
     },
     "execution_count": 126,
     "metadata": {},
     "output_type": "execute_result"
    }
   ],
   "source": [
    "s1[0]"
   ]
  },
  {
   "cell_type": "code",
   "execution_count": 128,
   "id": "06dee071-e058-422c-a4d3-4e34a0c9e7f3",
   "metadata": {},
   "outputs": [
    {
     "data": {
      "text/plain": [
       "'i'"
      ]
     },
     "execution_count": 128,
     "metadata": {},
     "output_type": "execute_result"
    }
   ],
   "source": [
    "s1[1]"
   ]
  },
  {
   "cell_type": "code",
   "execution_count": 130,
   "id": "198646d5-7eb7-4798-89fc-a967ea55643d",
   "metadata": {},
   "outputs": [
    {
     "data": {
      "text/plain": [
       "'t'"
      ]
     },
     "execution_count": 130,
     "metadata": {},
     "output_type": "execute_result"
    }
   ],
   "source": [
    "s1[2]"
   ]
  },
  {
   "cell_type": "code",
   "execution_count": 132,
   "id": "cf403979-31b0-4345-aef5-91708007322b",
   "metadata": {},
   "outputs": [
    {
     "ename": "IndexError",
     "evalue": "string index out of range",
     "output_type": "error",
     "traceback": [
      "\u001b[1;31m---------------------------------------------------------------------------\u001b[0m",
      "\u001b[1;31mIndexError\u001b[0m                                Traceback (most recent call last)",
      "Cell \u001b[1;32mIn[132], line 1\u001b[0m\n\u001b[1;32m----> 1\u001b[0m \u001b[43ms1\u001b[49m\u001b[43m[\u001b[49m\u001b[38;5;241;43m3\u001b[39;49m\u001b[43m]\u001b[49m \u001b[38;5;66;03m# string index out of range\u001b[39;00m\n",
      "\u001b[1;31mIndexError\u001b[0m: string index out of range"
     ]
    }
   ],
   "source": [
    "s1[3] # string index out of range"
   ]
  },
  {
   "cell_type": "code",
   "execution_count": 134,
   "id": "fe160e3b-f8f3-4650-ba62-ac640d4297c9",
   "metadata": {},
   "outputs": [
    {
     "data": {
      "text/plain": [
       "'nit'"
      ]
     },
     "execution_count": 134,
     "metadata": {},
     "output_type": "execute_result"
    }
   ],
   "source": [
    "s1"
   ]
  },
  {
   "cell_type": "code",
   "execution_count": 136,
   "id": "9edc7b18-5187-456c-b841-3957431c97e7",
   "metadata": {},
   "outputs": [
    {
     "name": "stdout",
     "output_type": "stream",
     "text": [
      "n\n",
      "i\n",
      "t\n"
     ]
    }
   ],
   "source": [
    "for i in s1:\n",
    "    print(i)"
   ]
  },
  {
   "cell_type": "code",
   "execution_count": 138,
   "id": "5fce3d9a-0f11-4d9c-bf37-8ed5124a42dd",
   "metadata": {},
   "outputs": [
    {
     "data": {
      "text/plain": [
       "'nit'"
      ]
     },
     "execution_count": 138,
     "metadata": {},
     "output_type": "execute_result"
    }
   ],
   "source": [
    "s1"
   ]
  },
  {
   "cell_type": "markdown",
   "id": "43501767-1633-474c-840a-fe2ed0201d4f",
   "metadata": {},
   "source": [
    "# String Slicing"
   ]
  },
  {
   "cell_type": "code",
   "execution_count": 141,
   "id": "e5a57d74-9736-49b1-b03c-bd10624fbeb9",
   "metadata": {},
   "outputs": [],
   "source": [
    "l = [10, 20, 30, 35, 40, 3, 10, 15, 20, 30, 40, 2.3, 1]"
   ]
  },
  {
   "cell_type": "code",
   "execution_count": 143,
   "id": "b750c041-1ddd-4aae-8f79-1eb5286ddf4e",
   "metadata": {},
   "outputs": [
    {
     "name": "stdout",
     "output_type": "stream",
     "text": [
      "[10, 20, 30, 35, 40, 3, 10, 15, 20, 30, 40, 2.3, 1]\n"
     ]
    }
   ],
   "source": [
    "print(l)"
   ]
  },
  {
   "cell_type": "code",
   "execution_count": 145,
   "id": "ad4fb748-b0e7-4866-8b04-3bc976c13d62",
   "metadata": {},
   "outputs": [
    {
     "data": {
      "text/plain": [
       "[10, 20, 30, 35, 40, 3, 10, 15, 20, 30, 40, 2.3, 1]"
      ]
     },
     "execution_count": 145,
     "metadata": {},
     "output_type": "execute_result"
    }
   ],
   "source": [
    "l[::]"
   ]
  },
  {
   "cell_type": "code",
   "execution_count": 147,
   "id": "e26d0a19-24c2-4775-bc8e-3d06be155ee6",
   "metadata": {},
   "outputs": [
    {
     "data": {
      "text/plain": [
       "[10, 20, 30, 35, 40, 3, 10, 15]"
      ]
     },
     "execution_count": 147,
     "metadata": {},
     "output_type": "execute_result"
    }
   ],
   "source": [
    "l[0:8]"
   ]
  },
  {
   "cell_type": "code",
   "execution_count": 149,
   "id": "0cce4ab9-f7e2-4b3f-b5f5-f7f18e25fe8a",
   "metadata": {},
   "outputs": [
    {
     "data": {
      "text/plain": [
       "[10, 20, 30, 35, 40, 3, 10, 15, 20, 30, 40, 2.3, 1]"
      ]
     },
     "execution_count": 149,
     "metadata": {},
     "output_type": "execute_result"
    }
   ],
   "source": [
    "l[:]"
   ]
  },
  {
   "cell_type": "code",
   "execution_count": 151,
   "id": "e39e056a-c938-41f3-a3b7-cc99a3e3294b",
   "metadata": {},
   "outputs": [
    {
     "data": {
      "text/plain": [
       "[35, 40, 3, 10, 15, 20, 30, 40, 2.3, 1]"
      ]
     },
     "execution_count": 151,
     "metadata": {},
     "output_type": "execute_result"
    }
   ],
   "source": [
    "l[3:]"
   ]
  },
  {
   "cell_type": "code",
   "execution_count": 153,
   "id": "b29d236f-94e4-4cde-9a5c-1836e463e305",
   "metadata": {},
   "outputs": [
    {
     "data": {
      "text/plain": [
       "[10, 20, 30, 35, 40, 3, 10, 15, 20, 30, 40, 2.3, 1]"
      ]
     },
     "execution_count": 153,
     "metadata": {},
     "output_type": "execute_result"
    }
   ],
   "source": [
    "l"
   ]
  },
  {
   "cell_type": "code",
   "execution_count": 155,
   "id": "064abdac-c47f-4e17-820c-2f6c1a00a232",
   "metadata": {},
   "outputs": [
    {
     "data": {
      "text/plain": [
       "[10, 20, 30, 35, 40, 3, 10]"
      ]
     },
     "execution_count": 155,
     "metadata": {},
     "output_type": "execute_result"
    }
   ],
   "source": [
    "l[:7]"
   ]
  },
  {
   "cell_type": "code",
   "execution_count": 157,
   "id": "7fffbfd8-9889-4a4c-92c4-ae356b44d68b",
   "metadata": {},
   "outputs": [
    {
     "data": {
      "text/plain": [
       "[10, 20, 30, 35, 40, 3, 10, 15, 20, 30, 40, 2.3, 1]"
      ]
     },
     "execution_count": 157,
     "metadata": {},
     "output_type": "execute_result"
    }
   ],
   "source": [
    "l"
   ]
  },
  {
   "cell_type": "code",
   "execution_count": 159,
   "id": "c0b9036d-f3bd-487c-9362-8de7bf74f17d",
   "metadata": {},
   "outputs": [
    {
     "data": {
      "text/plain": [
       "[10, 3, 40]"
      ]
     },
     "execution_count": 159,
     "metadata": {},
     "output_type": "execute_result"
    }
   ],
   "source": [
    "l[0:20:5]"
   ]
  },
  {
   "cell_type": "code",
   "execution_count": 161,
   "id": "d7810a61-e3e1-4f8d-8e6c-f5183c9339ff",
   "metadata": {},
   "outputs": [
    {
     "data": {
      "text/plain": [
       "[10, 20, 30, 35, 40, 3, 10, 15, 20, 30, 40, 2.3, 1]"
      ]
     },
     "execution_count": 161,
     "metadata": {},
     "output_type": "execute_result"
    }
   ],
   "source": [
    "l"
   ]
  },
  {
   "cell_type": "code",
   "execution_count": 163,
   "id": "65d12a7f-6460-44a3-9c8e-470346e26f0a",
   "metadata": {},
   "outputs": [
    {
     "data": {
      "text/plain": [
       "[35, 10, 30]"
      ]
     },
     "execution_count": 163,
     "metadata": {},
     "output_type": "execute_result"
    }
   ],
   "source": [
    "l[3:10:3]"
   ]
  },
  {
   "cell_type": "code",
   "execution_count": 165,
   "id": "eb49aa93-0c0b-47f4-9c1c-abf5867ce957",
   "metadata": {},
   "outputs": [
    {
     "data": {
      "text/plain": [
       "[10, 20, 30, 35, 40, 3, 10, 15, 20, 30, 40, 2.3, 1]"
      ]
     },
     "execution_count": 165,
     "metadata": {},
     "output_type": "execute_result"
    }
   ],
   "source": [
    "l"
   ]
  },
  {
   "cell_type": "code",
   "execution_count": 167,
   "id": "8682ffe1-02a6-474c-8681-269650726534",
   "metadata": {},
   "outputs": [
    {
     "data": {
      "text/plain": [
       "[1, 2.3, 40, 30, 20, 15, 10, 3, 40, 35, 30, 20, 10]"
      ]
     },
     "execution_count": 167,
     "metadata": {},
     "output_type": "execute_result"
    }
   ],
   "source": [
    "l[::-1]"
   ]
  },
  {
   "cell_type": "code",
   "execution_count": 169,
   "id": "c84cc00c-e4d4-40e8-a368-30f354894b10",
   "metadata": {},
   "outputs": [
    {
     "data": {
      "text/plain": [
       "[10, 20, 30, 35, 40, 3, 10, 15, 20, 30, 40, 2.3, 1]"
      ]
     },
     "execution_count": 169,
     "metadata": {},
     "output_type": "execute_result"
    }
   ],
   "source": [
    "l"
   ]
  },
  {
   "cell_type": "code",
   "execution_count": 171,
   "id": "5357d5a8-00f2-462e-97a3-28dbee1918b2",
   "metadata": {},
   "outputs": [
    {
     "data": {
      "text/plain": [
       "[1, 40, 20, 10, 40, 30, 10]"
      ]
     },
     "execution_count": 171,
     "metadata": {},
     "output_type": "execute_result"
    }
   ],
   "source": [
    "l[::-2]"
   ]
  },
  {
   "cell_type": "code",
   "execution_count": 173,
   "id": "52e29875-932f-402f-9b24-64903099629f",
   "metadata": {},
   "outputs": [
    {
     "data": {
      "text/plain": [
       "[10, 20, 30, 35, 40, 3, 10, 15, 20, 30, 40, 2.3, 1]"
      ]
     },
     "execution_count": 173,
     "metadata": {},
     "output_type": "execute_result"
    }
   ],
   "source": [
    "l"
   ]
  },
  {
   "cell_type": "code",
   "execution_count": 175,
   "id": "34054061-ac04-4750-bd0b-77644b4242aa",
   "metadata": {},
   "outputs": [
    {
     "data": {
      "text/plain": [
       "[1, 30, 10, 35, 10]"
      ]
     },
     "execution_count": 175,
     "metadata": {},
     "output_type": "execute_result"
    }
   ],
   "source": [
    "l[::-3]"
   ]
  },
  {
   "cell_type": "code",
   "execution_count": 177,
   "id": "b32fbf2b-7234-49e8-927a-8337ff4305b1",
   "metadata": {},
   "outputs": [
    {
     "data": {
      "text/plain": [
       "[40, 30, 20, 15, 10, 2.3, 1]"
      ]
     },
     "execution_count": 177,
     "metadata": {},
     "output_type": "execute_result"
    }
   ],
   "source": [
    "l1"
   ]
  },
  {
   "cell_type": "code",
   "execution_count": 179,
   "id": "5bfcd434-0db7-49d2-bd4c-3992a77e8df2",
   "metadata": {},
   "outputs": [
    {
     "data": {
      "text/plain": [
       "40"
      ]
     },
     "execution_count": 179,
     "metadata": {},
     "output_type": "execute_result"
    }
   ],
   "source": [
    "l1[0]"
   ]
  },
  {
   "cell_type": "code",
   "execution_count": 181,
   "id": "68fffcbe-1ed5-42b5-aa24-b0e6f6988e69",
   "metadata": {},
   "outputs": [],
   "source": [
    "l1[0] = 45"
   ]
  },
  {
   "cell_type": "code",
   "execution_count": 183,
   "id": "0f245376-1eb4-4fd4-9533-67db92a4c03a",
   "metadata": {},
   "outputs": [
    {
     "data": {
      "text/plain": [
       "[45, 30, 20, 15, 10, 2.3, 1]"
      ]
     },
     "execution_count": 183,
     "metadata": {},
     "output_type": "execute_result"
    }
   ],
   "source": [
    "l1"
   ]
  },
  {
   "cell_type": "code",
   "execution_count": 185,
   "id": "2790515f-b24e-4e8c-a02d-289e78941a93",
   "metadata": {},
   "outputs": [],
   "source": [
    "l1[-1] = 'nit'"
   ]
  },
  {
   "cell_type": "code",
   "execution_count": 187,
   "id": "53b1669a-ec14-4da9-b884-827fed190cf3",
   "metadata": {},
   "outputs": [
    {
     "data": {
      "text/plain": [
       "[45, 30, 20, 15, 10, 2.3, 'nit']"
      ]
     },
     "execution_count": 187,
     "metadata": {},
     "output_type": "execute_result"
    }
   ],
   "source": [
    "l1"
   ]
  },
  {
   "cell_type": "code",
   "execution_count": 189,
   "id": "820a001b-fe7a-463a-8b2f-382a76002359",
   "metadata": {},
   "outputs": [
    {
     "data": {
      "text/plain": [
       "'n'"
      ]
     },
     "execution_count": 189,
     "metadata": {},
     "output_type": "execute_result"
    }
   ],
   "source": [
    "l1[-1][0] #nested slicing"
   ]
  },
  {
   "cell_type": "code",
   "execution_count": 191,
   "id": "3d70d277-5e94-4f96-91e2-33b7bd818a62",
   "metadata": {},
   "outputs": [
    {
     "name": "stdout",
     "output_type": "stream",
     "text": [
      "n\n",
      "i\n",
      "t\n"
     ]
    }
   ],
   "source": [
    "print(l1[-1][0])\n",
    "print(l1[-1][1])\n",
    "print(l1[-1][2])"
   ]
  },
  {
   "cell_type": "code",
   "execution_count": 193,
   "id": "c62210bb-f9ba-48b2-8eca-1f930a526d4b",
   "metadata": {},
   "outputs": [
    {
     "data": {
      "text/plain": [
       "[45, 30, 20, 15, 10, 2.3, 'nit']"
      ]
     },
     "execution_count": 193,
     "metadata": {},
     "output_type": "execute_result"
    }
   ],
   "source": [
    "l1"
   ]
  },
  {
   "cell_type": "code",
   "execution_count": 195,
   "id": "68407465-04ef-42b2-b7c9-4b0164e3a19e",
   "metadata": {},
   "outputs": [
    {
     "data": {
      "text/plain": [
       "[10, 15, 20, 30, 40, 2.3, 1]"
      ]
     },
     "execution_count": 195,
     "metadata": {},
     "output_type": "execute_result"
    }
   ],
   "source": [
    "l2"
   ]
  },
  {
   "cell_type": "code",
   "execution_count": 197,
   "id": "4892eef7-a57b-47d2-9f39-123b6e677768",
   "metadata": {},
   "outputs": [
    {
     "data": {
      "text/plain": [
       "7"
      ]
     },
     "execution_count": 197,
     "metadata": {},
     "output_type": "execute_result"
    }
   ],
   "source": [
    "len(l2)"
   ]
  },
  {
   "cell_type": "code",
   "execution_count": 199,
   "id": "3ea78228-2f71-458a-82b0-958a513379ac",
   "metadata": {},
   "outputs": [
    {
     "data": {
      "text/plain": [
       "[10, 15, 20, 30, 40, 2.3, 1]"
      ]
     },
     "execution_count": 199,
     "metadata": {},
     "output_type": "execute_result"
    }
   ],
   "source": [
    "l3"
   ]
  },
  {
   "cell_type": "code",
   "execution_count": 201,
   "id": "a85f744b-1bcb-40ae-830f-80fcfb200c64",
   "metadata": {},
   "outputs": [],
   "source": [
    "l4 = l3 + l2"
   ]
  },
  {
   "cell_type": "markdown",
   "id": "8e7f62e0-bf95-4868-aeaf-943ab18d818d",
   "metadata": {},
   "source": [
    "# List Membership"
   ]
  },
  {
   "cell_type": "code",
   "execution_count": 204,
   "id": "da9c0007-ae02-4f01-a1b1-fa01711a8f2a",
   "metadata": {},
   "outputs": [
    {
     "data": {
      "text/plain": [
       "[10, 15, 20, 30, 40, 2.3, 1, 10, 15, 20, 30, 40, 2.3, 1]"
      ]
     },
     "execution_count": 204,
     "metadata": {},
     "output_type": "execute_result"
    }
   ],
   "source": [
    "l4"
   ]
  },
  {
   "cell_type": "code",
   "execution_count": 206,
   "id": "61f1ced7-8ad0-4f18-aceb-05d42e4d7dee",
   "metadata": {},
   "outputs": [
    {
     "data": {
      "text/plain": [
       "True"
      ]
     },
     "execution_count": 206,
     "metadata": {},
     "output_type": "execute_result"
    }
   ],
   "source": [
    "15 in l4"
   ]
  },
  {
   "cell_type": "markdown",
   "id": "14639718-0fc5-4212-95f8-a7e9eecefe37",
   "metadata": {},
   "source": [
    "# Enumerate"
   ]
  },
  {
   "cell_type": "code",
   "execution_count": 209,
   "id": "7e4c07f3-8165-4bf2-a72a-0fac37d3ba76",
   "metadata": {},
   "outputs": [
    {
     "data": {
      "text/plain": [
       "[45, 30, 20, 15, 10, 2.3, 'nit']"
      ]
     },
     "execution_count": 209,
     "metadata": {},
     "output_type": "execute_result"
    }
   ],
   "source": [
    "l1"
   ]
  },
  {
   "cell_type": "code",
   "execution_count": 211,
   "id": "2ade6c1c-a516-4bc1-8364-d222c9d3f526",
   "metadata": {},
   "outputs": [
    {
     "name": "stdout",
     "output_type": "stream",
     "text": [
      "45\n",
      "30\n",
      "20\n",
      "15\n",
      "10\n",
      "2.3\n",
      "nit\n"
     ]
    }
   ],
   "source": [
    "for i in l1:\n",
    "    print(i)"
   ]
  },
  {
   "cell_type": "code",
   "execution_count": 213,
   "id": "d282c780-8577-4b17-897e-561be24435a3",
   "metadata": {},
   "outputs": [
    {
     "name": "stdout",
     "output_type": "stream",
     "text": [
      "(0, 45)\n",
      "(1, 30)\n",
      "(2, 20)\n",
      "(3, 15)\n",
      "(4, 10)\n",
      "(5, 2.3)\n",
      "(6, 'nit')\n"
     ]
    }
   ],
   "source": [
    "for i in enumerate (l1):\n",
    "    print(i)"
   ]
  },
  {
   "cell_type": "code",
   "execution_count": 215,
   "id": "c7ec322c-224b-4b59-bddb-2232bf0f1538",
   "metadata": {},
   "outputs": [
    {
     "data": {
      "text/plain": [
       "[45, 30, 20, 15, 10, 2.3, 'nit']"
      ]
     },
     "execution_count": 215,
     "metadata": {},
     "output_type": "execute_result"
    }
   ],
   "source": [
    "l1"
   ]
  },
  {
   "cell_type": "code",
   "execution_count": 217,
   "id": "18701122-5893-4fce-9f7a-63ad3c5be891",
   "metadata": {},
   "outputs": [
    {
     "data": {
      "text/plain": [
       "[10, 15, 20, 30, 40, 2.3, 1]"
      ]
     },
     "execution_count": 217,
     "metadata": {},
     "output_type": "execute_result"
    }
   ],
   "source": [
    "l3"
   ]
  },
  {
   "cell_type": "code",
   "execution_count": 219,
   "id": "45237893-15e3-486d-a6ce-9bda88a5f92e",
   "metadata": {},
   "outputs": [
    {
     "data": {
      "text/plain": [
       "True"
      ]
     },
     "execution_count": 219,
     "metadata": {},
     "output_type": "execute_result"
    }
   ],
   "source": [
    "all(l3)"
   ]
  },
  {
   "cell_type": "code",
   "execution_count": 221,
   "id": "ec77150b-80cd-4f91-bba5-fb8254b32a11",
   "metadata": {},
   "outputs": [
    {
     "data": {
      "text/plain": [
       "True"
      ]
     },
     "execution_count": 221,
     "metadata": {},
     "output_type": "execute_result"
    }
   ],
   "source": [
    "any(l3)"
   ]
  },
  {
   "cell_type": "code",
   "execution_count": 223,
   "id": "cbf0cd3e-7e9f-41e8-b847-0f21ce53db4b",
   "metadata": {},
   "outputs": [
    {
     "data": {
      "text/plain": [
       "[10, 15, 20, 30, 40, 2.3, 1, 0]"
      ]
     },
     "execution_count": 223,
     "metadata": {},
     "output_type": "execute_result"
    }
   ],
   "source": [
    "l3.append(0)\n",
    "l3"
   ]
  },
  {
   "cell_type": "code",
   "execution_count": 225,
   "id": "15662ff8-e4bc-4a6c-a3d0-7ccec454a78b",
   "metadata": {},
   "outputs": [
    {
     "data": {
      "text/plain": [
       "False"
      ]
     },
     "execution_count": 225,
     "metadata": {},
     "output_type": "execute_result"
    }
   ],
   "source": [
    "all(l3)"
   ]
  },
  {
   "cell_type": "code",
   "execution_count": 227,
   "id": "778f72f3-b39c-43c3-b7b7-2526760cb661",
   "metadata": {},
   "outputs": [
    {
     "data": {
      "text/plain": [
       "True"
      ]
     },
     "execution_count": 227,
     "metadata": {},
     "output_type": "execute_result"
    }
   ],
   "source": [
    "any(l3)"
   ]
  },
  {
   "cell_type": "markdown",
   "id": "e135ade8-de14-4b89-bfc7-005047cb0d62",
   "metadata": {},
   "source": [
    "# List DS"
   ]
  },
  {
   "cell_type": "code",
   "execution_count": null,
   "id": "0c36bba6-3f05-4de7-ba51-e2d2b8093e13",
   "metadata": {},
   "outputs": [],
   "source": []
  }
 ],
 "metadata": {
  "kernelspec": {
   "display_name": "Python 3 (ipykernel)",
   "language": "python",
   "name": "python3"
  },
  "language_info": {
   "codemirror_mode": {
    "name": "ipython",
    "version": 3
   },
   "file_extension": ".py",
   "mimetype": "text/x-python",
   "name": "python",
   "nbconvert_exporter": "python",
   "pygments_lexer": "ipython3",
   "version": "3.12.4"
  }
 },
 "nbformat": 4,
 "nbformat_minor": 5
}
